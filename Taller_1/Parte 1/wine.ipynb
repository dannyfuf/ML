{
 "cells": [
  {
   "cell_type": "code",
   "execution_count": 17,
   "metadata": {
    "colab": {
     "base_uri": "https://localhost:8080/"
    },
    "id": "QF6x1bm_j5s3",
    "outputId": "5f3c7eb6-617b-4df2-db7a-fba624605808"
   },
   "outputs": [],
   "source": [
    "import pandas as pd\n",
    "import numpy as np\n",
    "from sklearn.preprocessing import OneHotEncoder\n",
    "from sklearn.preprocessing import StandardScaler\n",
    "from sklearn.model_selection import train_test_split\n",
    "\n",
    "from sklearn.linear_model import LogisticRegression\n",
    "from sklearn.linear_model import Perceptron\n",
    "from sklearn.naive_bayes import BernoulliNB, MultinomialNB, GaussianNB\n",
    "import category_encoders as ce\n",
    "\n",
    "np.random.seed(1)\n",
    "import matplotlib.pyplot as plt\n",
    "from matplotlib.pyplot import figure\n",
    "import seaborn as sns; sns.set()"
   ]
  },
  {
   "cell_type": "code",
   "execution_count": 2,
   "metadata": {
    "id": "rqX_LI1uj5s5"
   },
   "outputs": [],
   "source": [
    "#https://www.kaggle.com/klmsathishkumar/predict-your-bmi-here\n",
    "def ordinal_encoding(df,col,mapping):\n",
    "    ordinal_encoder = ce.OrdinalEncoder(cols = [col],return_df = True,mapping = [{'col':col,'mapping':mapping}])\n",
    "    df_final = ordinal_encoder.fit_transform(df)\n",
    "    return df_final"
   ]
  },
  {
   "cell_type": "markdown",
   "metadata": {
    "id": "jLqMQTpKj5s5"
   },
   "source": [
    "# Import Data"
   ]
  },
  {
   "cell_type": "code",
   "execution_count": 3,
   "metadata": {
    "id": "SWAmAGeNj5s6"
   },
   "outputs": [],
   "source": [
    "data_wine = pd.read_csv('Datasets/wine/wine.csv')\n",
    "data_wine = data_wine.sample(n=1000, random_state=1)\n",
    "data_wine = data_wine.dropna()"
   ]
  },
  {
   "cell_type": "code",
   "execution_count": 4,
   "metadata": {
    "id": "mqWKeCmYj5s7"
   },
   "outputs": [],
   "source": [
    "y = data_wine['quality']"
   ]
  },
  {
   "cell_type": "code",
   "execution_count": 5,
   "metadata": {
    "id": "mO0nX2V8j5s8"
   },
   "outputs": [],
   "source": [
    "data_wine = data_wine.drop(columns = ['quality'])"
   ]
  },
  {
   "cell_type": "markdown",
   "metadata": {
    "id": "UejT7dRVj5s8"
   },
   "source": [
    "# Preprocess"
   ]
  },
  {
   "cell_type": "code",
   "execution_count": 6,
   "metadata": {
    "id": "zpx5eDf4j5s9"
   },
   "outputs": [],
   "source": [
    "scaler = StandardScaler()"
   ]
  },
  {
   "cell_type": "code",
   "execution_count": 7,
   "metadata": {
    "id": "dArQbbLaj5s9"
   },
   "outputs": [],
   "source": [
    "columns = data_wine.columns"
   ]
  },
  {
   "cell_type": "code",
   "execution_count": 8,
   "metadata": {
    "id": "TxsKC_JZj5s9"
   },
   "outputs": [],
   "source": [
    "data_wine = scaler.fit_transform(data_wine)"
   ]
  },
  {
   "cell_type": "code",
   "execution_count": 9,
   "metadata": {
    "id": "SEcti2Ndj5s-"
   },
   "outputs": [],
   "source": [
    "data_wine = pd.DataFrame(data_wine, columns = columns)"
   ]
  },
  {
   "cell_type": "code",
   "execution_count": 10,
   "metadata": {
    "id": "iYImq7AQlYR4"
   },
   "outputs": [],
   "source": [
    "nan_wine = data_wine.mask(np.random.random(data_wine.shape) < .1)\n",
    "mod_wine = nan_wine.fillna(nan_wine.median())\n",
    "nan_wine = pd.concat([y, nan_wine], axis = 1)\n",
    "nan_wine = nan_wine.dropna()\n",
    "y_nan = nan_wine['quality']\n",
    "nan_wine = nan_wine.drop(columns=['quality'])"
   ]
  },
  {
   "cell_type": "markdown",
   "metadata": {
    "id": "4NIYlw9xqA06"
   },
   "source": [
    "# Split Data"
   ]
  },
  {
   "cell_type": "code",
   "execution_count": 11,
   "metadata": {
    "id": "7JqlhFpsj5s_"
   },
   "outputs": [],
   "source": [
    "X_train_nan, X_test_nan, y_train_nan, y_test_nan = train_test_split(nan_wine, y_nan, test_size=0.33, random_state=0)\n",
    "X_train_mod, X_test_mod, y_train_mod, y_test_mod = train_test_split(mod_wine, y, test_size=0.33, random_state=0)"
   ]
  },
  {
   "cell_type": "markdown",
   "metadata": {
    "id": "ZsWQ5P0Hj5s_"
   },
   "source": [
    "# Models"
   ]
  },
  {
   "cell_type": "code",
   "execution_count": 12,
   "metadata": {
    "id": "aW70mMg9mm1T"
   },
   "outputs": [],
   "source": [
    "discriminative = LogisticRegression(random_state = 0)\n",
    "generative = GaussianNB()\n",
    "    \n",
    "discriminative.fit(X_train_nan, y_train_nan)\n",
    "generative.fit(X_train_nan, y_train_nan)\n",
    "    \n",
    "dis_nan = discriminative.score(X_test_nan, y_test_nan)\n",
    "gen_nan = generative.score(X_test_nan, y_test_nan)"
   ]
  },
  {
   "cell_type": "code",
   "execution_count": 13,
   "metadata": {
    "id": "5mwkOX1Onx88"
   },
   "outputs": [],
   "source": [
    "discriminative = LogisticRegression(random_state = 0)\n",
    "generative = GaussianNB()\n",
    "    \n",
    "discriminative.fit(X_train_mod, y_train_mod)\n",
    "generative.fit(X_train_mod, y_train_mod)\n",
    "    \n",
    "dis_mod = discriminative.score(X_train_mod, y_train_mod)\n",
    "gen_mod = generative.score(X_train_mod, y_train_mod)"
   ]
  },
  {
   "cell_type": "code",
   "execution_count": 14,
   "metadata": {
    "colab": {
     "base_uri": "https://localhost:8080/"
    },
    "id": "AZYNAN4PmsJe",
    "outputId": "bc512b17-b8c9-4a75-99c0-fa0d838f775c"
   },
   "outputs": [
    {
     "name": "stdout",
     "output_type": "stream",
     "text": [
      "Discriminativo con NaN: 0.42424242424242425\n",
      "Discriminativo modificado: 0.6\n",
      "diff: 0.17575757575757572\n",
      "\n",
      "Generativo con NaN: 0.24242424242424243\n",
      "Generativo modificado: 0.5597014925373134\n",
      "diff: 0.31727725011307095\n"
     ]
    }
   ],
   "source": [
    "print (f'Discriminativo con NaN: {dis_nan}\\nDiscriminativo modificado: {dis_mod}\\ndiff: {dis_mod-dis_nan}\\n')\n",
    "print (f'Generativo con NaN: {gen_nan}\\nGenerativo modificado: {gen_mod}\\ndiff: {gen_mod-gen_nan}')"
   ]
  },
  {
   "cell_type": "code",
   "execution_count": 15,
   "metadata": {},
   "outputs": [],
   "source": [
    "def run_test(prob, data_students, medida='mean'):\n",
    "    # Create Noise\n",
    "    np.random.seed(42)\n",
    "    nan_students = data_students.mask(np.random.random(data_students.shape) < prob)\n",
    "    if medida == 'mean':\n",
    "        mod_students = nan_students.fillna(nan_students.mean())\n",
    "    elif medida == 'median':\n",
    "        mod_students = nan_students.fillna(nan_students.median())\n",
    "    nan_students = pd.concat([y, nan_students], axis = 1)\n",
    "    nan_students = nan_students.dropna()\n",
    "    y_nan = nan_students['quality']\n",
    "    nan_students = nan_students.drop(columns=['quality'])\n",
    "    \n",
    "    # Split Data\n",
    "    X_train_nan, X_test_nan, y_train_nan, y_test_nan = train_test_split(nan_students, y_nan, test_size=0.33, random_state=0)\n",
    "    X_train_mod, X_test_mod, y_train_mod, y_test_mod = train_test_split(mod_students, y, test_size=0.33, random_state=0)\n",
    "\n",
    "    # With Nan\n",
    "    discriminative = LogisticRegression(random_state = 0)\n",
    "    generative = GaussianNB()\n",
    "    \n",
    "    discriminative.fit(X_train_nan, y_train_nan)\n",
    "    generative.fit(X_train_nan, y_train_nan)\n",
    "    \n",
    "    dis_nan = discriminative.score(X_test_nan, y_test_nan)\n",
    "    mod_nan = generative.score(X_test_nan, y_test_nan)\n",
    "    \n",
    "    # Without Nan\n",
    "    discriminative = LogisticRegression(random_state = 0)\n",
    "    generative = GaussianNB()\n",
    "    \n",
    "    discriminative.fit(X_train_mod, y_train_mod)\n",
    "    generative.fit(X_train_mod, y_train_mod)\n",
    "    \n",
    "    dis_mod = discriminative.score(X_train_mod, y_train_mod)\n",
    "    gen_mod = generative.score(X_train_mod, y_train_mod)\n",
    "    \n",
    "    return (dis_mod-dis_nan, gen_mod-gen_nan)"
   ]
  },
  {
   "cell_type": "code",
   "execution_count": 16,
   "metadata": {},
   "outputs": [],
   "source": [
    "def plot_test(x, dis, gen):\n",
    "    figure(figsize=(15, 8), dpi=80)\n",
    "    plt.plot(x, dis, label = 'disc')\n",
    "    plt.plot(x, gen, label = 'gen')\n",
    "    plt.legend()\n",
    "    plt.show()"
   ]
  },
  {
   "cell_type": "code",
   "execution_count": 22,
   "metadata": {},
   "outputs": [],
   "source": [
    "test_values = [.1, .2, .3, .35,  .4]"
   ]
  },
  {
   "cell_type": "code",
   "execution_count": 23,
   "metadata": {},
   "outputs": [],
   "source": [
    "values = [run_test(i, data_wine, 'mean') for i in test_values]"
   ]
  },
  {
   "cell_type": "code",
   "execution_count": 24,
   "metadata": {},
   "outputs": [],
   "source": [
    "gen = []\n",
    "dis = []\n",
    "for d, g in values:\n",
    "    dis.append(d)\n",
    "    gen.append(g)"
   ]
  },
  {
   "cell_type": "code",
   "execution_count": 25,
   "metadata": {},
   "outputs": [
    {
     "data": {
      "image/png": "[encoded data removed]",
      "text/plain": [
       "<Figure size 1200x640 with 1 Axes>"
      ]
     },
     "metadata": {},
     "output_type": "display_data"
    }
   ],
   "source": [
    "plot_test(test_values, dis, gen)"
   ]
  },
  {
   "cell_type": "code",
   "execution_count": null,
   "metadata": {},
   "outputs": [],
   "source": []
  }
 ],
 "metadata": {
  "colab": {
   "collapsed_sections": [],
   "name": "wine.ipynb",
   "provenance": []
  },
  "kernelspec": {
   "display_name": "Python 3",
   "language": "python",
   "name": "python3"
  },
  "language_info": {
   "codemirror_mode": {
    "name": "ipython",
    "version": 3
   },
   "file_extension": ".py",
   "mimetype": "text/x-python",
   "name": "python",
   "nbconvert_exporter": "python",
   "pygments_lexer": "ipython3",
   "version": "3.8.6"
  }
 },
 "nbformat": 4,
 "nbformat_minor": 4
}
