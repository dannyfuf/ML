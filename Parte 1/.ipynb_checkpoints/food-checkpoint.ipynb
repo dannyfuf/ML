{
  "nbformat": 4,
  "nbformat_minor": 0,
  "metadata": {
    "kernelspec": {
      "display_name": "Python 3",
      "language": "python",
      "name": "python3"
    },
    "language_info": {
      "codemirror_mode": {
        "name": "ipython",
        "version": 3
      },
      "file_extension": ".py",
      "mimetype": "text/x-python",
      "name": "python",
      "nbconvert_exporter": "python",
      "pygments_lexer": "ipython3",
      "version": "3.8.6"
    },
    "colab": {
      "name": "food.ipynb",
      "provenance": [],
      "collapsed_sections": []
    }
  },
  "cells": [
    {
      "cell_type": "code",
      "metadata": {
        "id": "7BvtsKBSc_uM"
      },
      "source": [
        "import pandas as pd\n",
        "import numpy as np\n",
        "from sklearn.preprocessing import OneHotEncoder\n",
        "from sklearn.preprocessing import StandardScaler\n",
        "from sklearn.model_selection import train_test_split\n",
        "\n",
        "from sklearn.linear_model import LogisticRegression\n",
        "from sklearn.linear_model import Perceptron\n",
        "from sklearn.naive_bayes import BernoulliNB, MultinomialNB, GaussianNB\n",
        "import category_encoders as ce\n",
        "\n",
        "np.random.seed(43)"
      ],
      "execution_count": 228,
      "outputs": []
    },
    {
      "cell_type": "code",
      "metadata": {
        "id": "KmO8ZvU5c_uP"
      },
      "source": [
        "#https://www.kaggle.com/klmsathishkumar/predict-your-bmi-here\n",
        "def ordinal_encoding(df,col,mapping):\n",
        "    ordinal_encoder = ce.OrdinalEncoder(cols = [col],return_df = True,mapping = [{'col':col,'mapping':mapping}])\n",
        "    df_final = ordinal_encoder.fit_transform(df)\n",
        "    return df_final"
      ],
      "execution_count": 229,
      "outputs": []
    },
    {
      "cell_type": "markdown",
      "metadata": {
        "tags": [],
        "id": "ZJs1gjt_c_uP"
      },
      "source": [
        "# Food"
      ]
    },
    {
      "cell_type": "code",
      "metadata": {
        "colab": {
          "base_uri": "https://localhost:8080/",
          "height": 419
        },
        "id": "S0qtnWb4c_uQ",
        "outputId": "47af93f2-2224-4abe-facf-d5157fb08ab2"
      },
      "source": [
        "data_food = pd.read_csv('Datasets/food/Food_Preference.csv')\n",
        "data_food = data_food[data_food.Gender.notnull()]\n",
        "data_food"
      ],
      "execution_count": 230,
      "outputs": [
        {
          "output_type": "execute_result",
          "data": {
            "text/html": [
              "<div>\n",
              "<style scoped>\n",
              "    .dataframe tbody tr th:only-of-type {\n",
              "        vertical-align: middle;\n",
              "    }\n",
              "\n",
              "    .dataframe tbody tr th {\n",
              "        vertical-align: top;\n",
              "    }\n",
              "\n",
              "    .dataframe thead th {\n",
              "        text-align: right;\n",
              "    }\n",
              "</style>\n",
              "<table border=\"1\" class=\"dataframe\">\n",
              "  <thead>\n",
              "    <tr style=\"text-align: right;\">\n",
              "      <th></th>\n",
              "      <th>Timestamp</th>\n",
              "      <th>Participant_ID</th>\n",
              "      <th>Gender</th>\n",
              "      <th>Nationality</th>\n",
              "      <th>Age</th>\n",
              "      <th>Food</th>\n",
              "      <th>Juice</th>\n",
              "      <th>Dessert</th>\n",
              "    </tr>\n",
              "  </thead>\n",
              "  <tbody>\n",
              "    <tr>\n",
              "      <th>0</th>\n",
              "      <td>2019/05/07 2:59:13 PM GMT+8</td>\n",
              "      <td>FPS001</td>\n",
              "      <td>Male</td>\n",
              "      <td>Indian</td>\n",
              "      <td>24</td>\n",
              "      <td>Traditional food</td>\n",
              "      <td>Fresh Juice</td>\n",
              "      <td>Maybe</td>\n",
              "    </tr>\n",
              "    <tr>\n",
              "      <th>1</th>\n",
              "      <td>2019/05/07 2:59:45 PM GMT+8</td>\n",
              "      <td>FPS002</td>\n",
              "      <td>Female</td>\n",
              "      <td>Indian</td>\n",
              "      <td>22</td>\n",
              "      <td>Western Food</td>\n",
              "      <td>Carbonated drinks</td>\n",
              "      <td>Yes</td>\n",
              "    </tr>\n",
              "    <tr>\n",
              "      <th>2</th>\n",
              "      <td>2019/05/07 3:00:05 PM GMT+8</td>\n",
              "      <td>FPS003</td>\n",
              "      <td>Male</td>\n",
              "      <td>Indian</td>\n",
              "      <td>31</td>\n",
              "      <td>Western Food</td>\n",
              "      <td>Fresh Juice</td>\n",
              "      <td>Maybe</td>\n",
              "    </tr>\n",
              "    <tr>\n",
              "      <th>3</th>\n",
              "      <td>2019/05/07 3:00:11 PM GMT+8</td>\n",
              "      <td>FPS004</td>\n",
              "      <td>Female</td>\n",
              "      <td>Indian</td>\n",
              "      <td>25</td>\n",
              "      <td>Traditional food</td>\n",
              "      <td>Fresh Juice</td>\n",
              "      <td>Maybe</td>\n",
              "    </tr>\n",
              "    <tr>\n",
              "      <th>4</th>\n",
              "      <td>2019/05/07 3:02:50 PM GMT+8</td>\n",
              "      <td>FPS005</td>\n",
              "      <td>Male</td>\n",
              "      <td>Indian</td>\n",
              "      <td>27</td>\n",
              "      <td>Traditional food</td>\n",
              "      <td>Fresh Juice</td>\n",
              "      <td>Maybe</td>\n",
              "    </tr>\n",
              "    <tr>\n",
              "      <th>...</th>\n",
              "      <td>...</td>\n",
              "      <td>...</td>\n",
              "      <td>...</td>\n",
              "      <td>...</td>\n",
              "      <td>...</td>\n",
              "      <td>...</td>\n",
              "      <td>...</td>\n",
              "      <td>...</td>\n",
              "    </tr>\n",
              "    <tr>\n",
              "      <th>283</th>\n",
              "      <td>2019/05/10 9:24:00 AM GMT+8</td>\n",
              "      <td>FPS284</td>\n",
              "      <td>Male</td>\n",
              "      <td>Indian</td>\n",
              "      <td>27</td>\n",
              "      <td>Western Food</td>\n",
              "      <td>Fresh Juice</td>\n",
              "      <td>Yes</td>\n",
              "    </tr>\n",
              "    <tr>\n",
              "      <th>284</th>\n",
              "      <td>2019/05/10 9:32:54 AM GMT+8</td>\n",
              "      <td>FPS285</td>\n",
              "      <td>Male</td>\n",
              "      <td>Indian</td>\n",
              "      <td>24</td>\n",
              "      <td>Traditional food</td>\n",
              "      <td>Fresh Juice</td>\n",
              "      <td>Yes</td>\n",
              "    </tr>\n",
              "    <tr>\n",
              "      <th>285</th>\n",
              "      <td>2019/05/10 12:09:17 PM GMT+8</td>\n",
              "      <td>FPS286</td>\n",
              "      <td>Male</td>\n",
              "      <td>Indian</td>\n",
              "      <td>25</td>\n",
              "      <td>Traditional food</td>\n",
              "      <td>Fresh Juice</td>\n",
              "      <td>Yes</td>\n",
              "    </tr>\n",
              "    <tr>\n",
              "      <th>286</th>\n",
              "      <td>2019/05/10 12:52:17 PM GMT+8</td>\n",
              "      <td>FPS287</td>\n",
              "      <td>Male</td>\n",
              "      <td>Indian</td>\n",
              "      <td>27</td>\n",
              "      <td>Traditional food</td>\n",
              "      <td>Fresh Juice</td>\n",
              "      <td>Yes</td>\n",
              "    </tr>\n",
              "    <tr>\n",
              "      <th>287</th>\n",
              "      <td>2019/05/10 12:55:42 PM GMT+8</td>\n",
              "      <td>FPS288</td>\n",
              "      <td>Male</td>\n",
              "      <td>Indian</td>\n",
              "      <td>27</td>\n",
              "      <td>Traditional food</td>\n",
              "      <td>Fresh Juice</td>\n",
              "      <td>No</td>\n",
              "    </tr>\n",
              "  </tbody>\n",
              "</table>\n",
              "<p>284 rows × 8 columns</p>\n",
              "</div>"
            ],
            "text/plain": [
              "                        Timestamp Participant_ID  ...              Juice Dessert\n",
              "0     2019/05/07 2:59:13 PM GMT+8         FPS001  ...        Fresh Juice   Maybe\n",
              "1     2019/05/07 2:59:45 PM GMT+8         FPS002  ...  Carbonated drinks     Yes\n",
              "2     2019/05/07 3:00:05 PM GMT+8         FPS003  ...        Fresh Juice   Maybe\n",
              "3     2019/05/07 3:00:11 PM GMT+8         FPS004  ...        Fresh Juice   Maybe\n",
              "4     2019/05/07 3:02:50 PM GMT+8         FPS005  ...        Fresh Juice   Maybe\n",
              "..                            ...            ...  ...                ...     ...\n",
              "283   2019/05/10 9:24:00 AM GMT+8         FPS284  ...        Fresh Juice     Yes\n",
              "284   2019/05/10 9:32:54 AM GMT+8         FPS285  ...        Fresh Juice     Yes\n",
              "285  2019/05/10 12:09:17 PM GMT+8         FPS286  ...        Fresh Juice     Yes\n",
              "286  2019/05/10 12:52:17 PM GMT+8         FPS287  ...        Fresh Juice     Yes\n",
              "287  2019/05/10 12:55:42 PM GMT+8         FPS288  ...        Fresh Juice      No\n",
              "\n",
              "[284 rows x 8 columns]"
            ]
          },
          "metadata": {},
          "execution_count": 230
        }
      ]
    },
    {
      "cell_type": "code",
      "metadata": {
        "id": "AVs54SBJc_uR"
      },
      "source": [
        "y = data_food['Age']"
      ],
      "execution_count": 231,
      "outputs": []
    },
    {
      "cell_type": "code",
      "metadata": {
        "tags": [],
        "id": "4r4yZEALc_uS"
      },
      "source": [
        "data_food = data_food.drop(columns=['Timestamp', 'Participant_ID', 'Age', 'Nationality'])"
      ],
      "execution_count": 232,
      "outputs": []
    },
    {
      "cell_type": "code",
      "metadata": {
        "id": "P1uPemiHf7H7"
      },
      "source": [
        "mapping_gender = {\"Male\":0, \"Female\":1}\n",
        "mapping_food = {'Traditional food':0, \"Western Food\":1}\n",
        "mapping_juice = {\"Fresh Juice\":0, \"Carbonated drinks\":1}\n",
        "mapping_dessert = {\"Maybe\":0, \"Yes\":1, \"No\":2}"
      ],
      "execution_count": 233,
      "outputs": []
    },
    {
      "cell_type": "code",
      "metadata": {
        "id": "8hBUtvYAf07r"
      },
      "source": [
        "data_food[\"Gender\"] = ordinal_encoding(data_food['Gender'],\"Gender\",mapping_gender)\n",
        "data_food[\"Food\"] = ordinal_encoding(data_food['Food'],\"Food\",mapping_food)\n",
        "data_food[\"Juice\"] = ordinal_encoding(data_food['Juice'],\"Juice\",mapping_juice)\n",
        "data_food[\"Dessert\"] = ordinal_encoding(data_food['Dessert'],\"Dessert\",mapping_dessert)"
      ],
      "execution_count": 234,
      "outputs": []
    },
    {
      "cell_type": "code",
      "metadata": {
        "colab": {
          "base_uri": "https://localhost:8080/",
          "height": 419
        },
        "id": "SJyk8rTTjOdf",
        "outputId": "fcf89a1a-dc8f-43ff-e5b9-6cb33e639d1c"
      },
      "source": [
        "data_food"
      ],
      "execution_count": 235,
      "outputs": [
        {
          "output_type": "execute_result",
          "data": {
            "text/html": [
              "<div>\n",
              "<style scoped>\n",
              "    .dataframe tbody tr th:only-of-type {\n",
              "        vertical-align: middle;\n",
              "    }\n",
              "\n",
              "    .dataframe tbody tr th {\n",
              "        vertical-align: top;\n",
              "    }\n",
              "\n",
              "    .dataframe thead th {\n",
              "        text-align: right;\n",
              "    }\n",
              "</style>\n",
              "<table border=\"1\" class=\"dataframe\">\n",
              "  <thead>\n",
              "    <tr style=\"text-align: right;\">\n",
              "      <th></th>\n",
              "      <th>Gender</th>\n",
              "      <th>Food</th>\n",
              "      <th>Juice</th>\n",
              "      <th>Dessert</th>\n",
              "    </tr>\n",
              "  </thead>\n",
              "  <tbody>\n",
              "    <tr>\n",
              "      <th>0</th>\n",
              "      <td>0</td>\n",
              "      <td>0</td>\n",
              "      <td>0</td>\n",
              "      <td>0</td>\n",
              "    </tr>\n",
              "    <tr>\n",
              "      <th>1</th>\n",
              "      <td>1</td>\n",
              "      <td>1</td>\n",
              "      <td>1</td>\n",
              "      <td>1</td>\n",
              "    </tr>\n",
              "    <tr>\n",
              "      <th>2</th>\n",
              "      <td>0</td>\n",
              "      <td>1</td>\n",
              "      <td>0</td>\n",
              "      <td>0</td>\n",
              "    </tr>\n",
              "    <tr>\n",
              "      <th>3</th>\n",
              "      <td>1</td>\n",
              "      <td>0</td>\n",
              "      <td>0</td>\n",
              "      <td>0</td>\n",
              "    </tr>\n",
              "    <tr>\n",
              "      <th>4</th>\n",
              "      <td>0</td>\n",
              "      <td>0</td>\n",
              "      <td>0</td>\n",
              "      <td>0</td>\n",
              "    </tr>\n",
              "    <tr>\n",
              "      <th>...</th>\n",
              "      <td>...</td>\n",
              "      <td>...</td>\n",
              "      <td>...</td>\n",
              "      <td>...</td>\n",
              "    </tr>\n",
              "    <tr>\n",
              "      <th>283</th>\n",
              "      <td>0</td>\n",
              "      <td>1</td>\n",
              "      <td>0</td>\n",
              "      <td>1</td>\n",
              "    </tr>\n",
              "    <tr>\n",
              "      <th>284</th>\n",
              "      <td>0</td>\n",
              "      <td>0</td>\n",
              "      <td>0</td>\n",
              "      <td>1</td>\n",
              "    </tr>\n",
              "    <tr>\n",
              "      <th>285</th>\n",
              "      <td>0</td>\n",
              "      <td>0</td>\n",
              "      <td>0</td>\n",
              "      <td>1</td>\n",
              "    </tr>\n",
              "    <tr>\n",
              "      <th>286</th>\n",
              "      <td>0</td>\n",
              "      <td>0</td>\n",
              "      <td>0</td>\n",
              "      <td>1</td>\n",
              "    </tr>\n",
              "    <tr>\n",
              "      <th>287</th>\n",
              "      <td>0</td>\n",
              "      <td>0</td>\n",
              "      <td>0</td>\n",
              "      <td>2</td>\n",
              "    </tr>\n",
              "  </tbody>\n",
              "</table>\n",
              "<p>284 rows × 4 columns</p>\n",
              "</div>"
            ],
            "text/plain": [
              "     Gender  Food  Juice  Dessert\n",
              "0         0     0      0        0\n",
              "1         1     1      1        1\n",
              "2         0     1      0        0\n",
              "3         1     0      0        0\n",
              "4         0     0      0        0\n",
              "..      ...   ...    ...      ...\n",
              "283       0     1      0        1\n",
              "284       0     0      0        1\n",
              "285       0     0      0        1\n",
              "286       0     0      0        1\n",
              "287       0     0      0        2\n",
              "\n",
              "[284 rows x 4 columns]"
            ]
          },
          "metadata": {},
          "execution_count": 235
        }
      ]
    },
    {
      "cell_type": "code",
      "metadata": {
        "id": "UHU-eNcKc_uS"
      },
      "source": [
        "#scaler = StandardScaler()\n",
        "#columns = data_food.columns\n",
        "#data_food = scaler.fit_transform(data_food)\n",
        "#data_food = pd.DataFrame(data_food, columns = columns)"
      ],
      "execution_count": 236,
      "outputs": []
    },
    {
      "cell_type": "code",
      "metadata": {
        "colab": {
          "base_uri": "https://localhost:8080/",
          "height": 419
        },
        "id": "tw50NBGPn1Ti",
        "outputId": "a345eba8-c174-4195-fc54-731f63489684"
      },
      "source": [
        "data_food"
      ],
      "execution_count": 237,
      "outputs": [
        {
          "output_type": "execute_result",
          "data": {
            "text/html": [
              "<div>\n",
              "<style scoped>\n",
              "    .dataframe tbody tr th:only-of-type {\n",
              "        vertical-align: middle;\n",
              "    }\n",
              "\n",
              "    .dataframe tbody tr th {\n",
              "        vertical-align: top;\n",
              "    }\n",
              "\n",
              "    .dataframe thead th {\n",
              "        text-align: right;\n",
              "    }\n",
              "</style>\n",
              "<table border=\"1\" class=\"dataframe\">\n",
              "  <thead>\n",
              "    <tr style=\"text-align: right;\">\n",
              "      <th></th>\n",
              "      <th>Gender</th>\n",
              "      <th>Food</th>\n",
              "      <th>Juice</th>\n",
              "      <th>Dessert</th>\n",
              "    </tr>\n",
              "  </thead>\n",
              "  <tbody>\n",
              "    <tr>\n",
              "      <th>0</th>\n",
              "      <td>0</td>\n",
              "      <td>0</td>\n",
              "      <td>0</td>\n",
              "      <td>0</td>\n",
              "    </tr>\n",
              "    <tr>\n",
              "      <th>1</th>\n",
              "      <td>1</td>\n",
              "      <td>1</td>\n",
              "      <td>1</td>\n",
              "      <td>1</td>\n",
              "    </tr>\n",
              "    <tr>\n",
              "      <th>2</th>\n",
              "      <td>0</td>\n",
              "      <td>1</td>\n",
              "      <td>0</td>\n",
              "      <td>0</td>\n",
              "    </tr>\n",
              "    <tr>\n",
              "      <th>3</th>\n",
              "      <td>1</td>\n",
              "      <td>0</td>\n",
              "      <td>0</td>\n",
              "      <td>0</td>\n",
              "    </tr>\n",
              "    <tr>\n",
              "      <th>4</th>\n",
              "      <td>0</td>\n",
              "      <td>0</td>\n",
              "      <td>0</td>\n",
              "      <td>0</td>\n",
              "    </tr>\n",
              "    <tr>\n",
              "      <th>...</th>\n",
              "      <td>...</td>\n",
              "      <td>...</td>\n",
              "      <td>...</td>\n",
              "      <td>...</td>\n",
              "    </tr>\n",
              "    <tr>\n",
              "      <th>283</th>\n",
              "      <td>0</td>\n",
              "      <td>1</td>\n",
              "      <td>0</td>\n",
              "      <td>1</td>\n",
              "    </tr>\n",
              "    <tr>\n",
              "      <th>284</th>\n",
              "      <td>0</td>\n",
              "      <td>0</td>\n",
              "      <td>0</td>\n",
              "      <td>1</td>\n",
              "    </tr>\n",
              "    <tr>\n",
              "      <th>285</th>\n",
              "      <td>0</td>\n",
              "      <td>0</td>\n",
              "      <td>0</td>\n",
              "      <td>1</td>\n",
              "    </tr>\n",
              "    <tr>\n",
              "      <th>286</th>\n",
              "      <td>0</td>\n",
              "      <td>0</td>\n",
              "      <td>0</td>\n",
              "      <td>1</td>\n",
              "    </tr>\n",
              "    <tr>\n",
              "      <th>287</th>\n",
              "      <td>0</td>\n",
              "      <td>0</td>\n",
              "      <td>0</td>\n",
              "      <td>2</td>\n",
              "    </tr>\n",
              "  </tbody>\n",
              "</table>\n",
              "<p>284 rows × 4 columns</p>\n",
              "</div>"
            ],
            "text/plain": [
              "     Gender  Food  Juice  Dessert\n",
              "0         0     0      0        0\n",
              "1         1     1      1        1\n",
              "2         0     1      0        0\n",
              "3         1     0      0        0\n",
              "4         0     0      0        0\n",
              "..      ...   ...    ...      ...\n",
              "283       0     1      0        1\n",
              "284       0     0      0        1\n",
              "285       0     0      0        1\n",
              "286       0     0      0        1\n",
              "287       0     0      0        2\n",
              "\n",
              "[284 rows x 4 columns]"
            ]
          },
          "metadata": {},
          "execution_count": 237
        }
      ]
    },
    {
      "cell_type": "code",
      "metadata": {
        "id": "ROL_lD0nc_uT"
      },
      "source": [
        "scaler = StandardScaler()"
      ],
      "execution_count": 238,
      "outputs": []
    },
    {
      "cell_type": "code",
      "metadata": {
        "colab": {
          "base_uri": "https://localhost:8080/"
        },
        "id": "2m1vq580oGSQ",
        "outputId": "40818b0c-daac-4761-b021-c67740f1d6be"
      },
      "source": [
        "X_train, X_test, y_train, y_test = train_test_split(data_food, y, test_size=0.33, random_state=0)\n",
        "\n",
        "discriminative = LogisticRegression(random_state = 0)\n",
        "generative = GaussianNB()\n",
        "\n",
        "discriminative.fit(X_train, y_train)\n",
        "generative.fit(X_train, y_train)"
      ],
      "execution_count": 239,
      "outputs": [
        {
          "output_type": "execute_result",
          "data": {
            "text/plain": [
              "GaussianNB(priors=None, var_smoothing=1e-09)"
            ]
          },
          "metadata": {},
          "execution_count": 239
        }
      ]
    },
    {
      "cell_type": "code",
      "metadata": {
        "colab": {
          "base_uri": "https://localhost:8080/"
        },
        "id": "WF3Ym1zPoMqO",
        "outputId": "b40a07e6-5cd3-4ed2-c72f-575192c10dda"
      },
      "source": [
        "discriminative.score(X_test, y_test)"
      ],
      "execution_count": 240,
      "outputs": [
        {
          "output_type": "execute_result",
          "data": {
            "text/plain": [
              "0.09574468085106383"
            ]
          },
          "metadata": {},
          "execution_count": 240
        }
      ]
    },
    {
      "cell_type": "code",
      "metadata": {
        "colab": {
          "base_uri": "https://localhost:8080/"
        },
        "id": "O_s-hdBMoM92",
        "outputId": "95b25fad-ee72-4db2-f88f-a1b9d103091a"
      },
      "source": [
        "generative.score(X_test, y_test)"
      ],
      "execution_count": 241,
      "outputs": [
        {
          "output_type": "execute_result",
          "data": {
            "text/plain": [
              "0.02127659574468085"
            ]
          },
          "metadata": {},
          "execution_count": 241
        }
      ]
    },
    {
      "cell_type": "code",
      "metadata": {
        "id": "Er_omqnroSAz"
      },
      "source": [
        "new_food = data_food.mask(np.random.random(data_food.shape) < .2)\n",
        "new_food = new_food.fillna(new_food.median())"
      ],
      "execution_count": 242,
      "outputs": []
    },
    {
      "cell_type": "code",
      "metadata": {
        "colab": {
          "base_uri": "https://localhost:8080/"
        },
        "id": "BKPQvrZmobjN",
        "outputId": "fc3073ff-854b-4b26-8dc8-6b805bc50faf"
      },
      "source": [
        "X_train, X_test, y_train, y_test = train_test_split(new_food, y, test_size=0.33, random_state=0)\n",
        "\n",
        "discriminative.fit(X_train, y_train)\n",
        "generative.fit(X_train, y_train)"
      ],
      "execution_count": 243,
      "outputs": [
        {
          "output_type": "execute_result",
          "data": {
            "text/plain": [
              "GaussianNB(priors=None, var_smoothing=1e-09)"
            ]
          },
          "metadata": {},
          "execution_count": 243
        }
      ]
    },
    {
      "cell_type": "code",
      "metadata": {
        "colab": {
          "base_uri": "https://localhost:8080/"
        },
        "id": "SgqGEKI4ofj6",
        "outputId": "5652cf7d-39ca-4138-be1d-f92fadcc0bd7"
      },
      "source": [
        "discriminative.score(X_test, y_test)"
      ],
      "execution_count": 244,
      "outputs": [
        {
          "output_type": "execute_result",
          "data": {
            "text/plain": [
              "0.07446808510638298"
            ]
          },
          "metadata": {},
          "execution_count": 244
        }
      ]
    },
    {
      "cell_type": "code",
      "metadata": {
        "colab": {
          "base_uri": "https://localhost:8080/"
        },
        "id": "uj2-8Do1ohSm",
        "outputId": "0b1c400c-670e-42a7-db78-91499d9aecac"
      },
      "source": [
        "generative.score(X_test, y_test)"
      ],
      "execution_count": 245,
      "outputs": [
        {
          "output_type": "execute_result",
          "data": {
            "text/plain": [
              "0.0"
            ]
          },
          "metadata": {},
          "execution_count": 245
        }
      ]
    }
  ]
}