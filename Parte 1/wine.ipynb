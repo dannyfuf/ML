{
  "nbformat": 4,
  "nbformat_minor": 0,
  "metadata": {
    "kernelspec": {
      "display_name": "Python 3",
      "language": "python",
      "name": "python3"
    },
    "language_info": {
      "codemirror_mode": {
        "name": "ipython",
        "version": 3
      },
      "file_extension": ".py",
      "mimetype": "text/x-python",
      "name": "python",
      "nbconvert_exporter": "python",
      "pygments_lexer": "ipython3",
      "version": "3.8.6"
    },
    "colab": {
      "name": "wine.ipynb",
      "provenance": [],
      "collapsed_sections": []
    }
  },
  "cells": [
    {
      "cell_type": "code",
      "metadata": {
        "colab": {
          "base_uri": "https://localhost:8080/"
        },
        "id": "QF6x1bm_j5s3",
        "outputId": "5f3c7eb6-617b-4df2-db7a-fba624605808"
      },
      "source": [
        "import pandas as pd\n",
        "import numpy as np\n",
        "from sklearn.preprocessing import OneHotEncoder\n",
        "from sklearn.preprocessing import StandardScaler\n",
        "from sklearn.model_selection import train_test_split\n",
        "\n",
        "from sklearn.linear_model import LogisticRegression\n",
        "from sklearn.linear_model import Perceptron\n",
        "from sklearn.naive_bayes import BernoulliNB, MultinomialNB, GaussianNB\n",
        "import category_encoders as ce\n",
        "\n",
        "np.random.seed(1)"
      ],
      "execution_count": 15,
      "outputs": [
        {
          "output_type": "stream",
          "name": "stdout",
          "text": [
            "Requirement already satisfied: category_encoders in /usr/local/lib/python3.7/dist-packages (2.3.0)\n",
            "Requirement already satisfied: pandas>=0.21.1 in /usr/local/lib/python3.7/dist-packages (from category_encoders) (1.1.5)\n",
            "Requirement already satisfied: numpy>=1.14.0 in /usr/local/lib/python3.7/dist-packages (from category_encoders) (1.19.5)\n",
            "Requirement already satisfied: scipy>=1.0.0 in /usr/local/lib/python3.7/dist-packages (from category_encoders) (1.4.1)\n",
            "Requirement already satisfied: statsmodels>=0.9.0 in /usr/local/lib/python3.7/dist-packages (from category_encoders) (0.10.2)\n",
            "Requirement already satisfied: patsy>=0.5.1 in /usr/local/lib/python3.7/dist-packages (from category_encoders) (0.5.2)\n",
            "Requirement already satisfied: scikit-learn>=0.20.0 in /usr/local/lib/python3.7/dist-packages (from category_encoders) (0.22.2.post1)\n",
            "Requirement already satisfied: pytz>=2017.2 in /usr/local/lib/python3.7/dist-packages (from pandas>=0.21.1->category_encoders) (2018.9)\n",
            "Requirement already satisfied: python-dateutil>=2.7.3 in /usr/local/lib/python3.7/dist-packages (from pandas>=0.21.1->category_encoders) (2.8.2)\n",
            "Requirement already satisfied: six in /usr/local/lib/python3.7/dist-packages (from patsy>=0.5.1->category_encoders) (1.15.0)\n",
            "Requirement already satisfied: joblib>=0.11 in /usr/local/lib/python3.7/dist-packages (from scikit-learn>=0.20.0->category_encoders) (1.0.1)\n"
          ]
        }
      ]
    },
    {
      "cell_type": "code",
      "metadata": {
        "id": "rqX_LI1uj5s5"
      },
      "source": [
        "#https://www.kaggle.com/klmsathishkumar/predict-your-bmi-here\n",
        "def ordinal_encoding(df,col,mapping):\n",
        "    ordinal_encoder = ce.OrdinalEncoder(cols = [col],return_df = True,mapping = [{'col':col,'mapping':mapping}])\n",
        "    df_final = ordinal_encoder.fit_transform(df)\n",
        "    return df_final"
      ],
      "execution_count": 16,
      "outputs": []
    },
    {
      "cell_type": "markdown",
      "metadata": {
        "id": "jLqMQTpKj5s5"
      },
      "source": [
        "# Import Data"
      ]
    },
    {
      "cell_type": "code",
      "metadata": {
        "id": "SWAmAGeNj5s6"
      },
      "source": [
        "data_wine = pd.read_csv('Datasets/wine/wine.csv')\n",
        "data_wine = data_wine.sample(n=1000, random_state=1)\n",
        "data_wine = data_wine.dropna()"
      ],
      "execution_count": 17,
      "outputs": []
    },
    {
      "cell_type": "code",
      "metadata": {
        "id": "mqWKeCmYj5s7"
      },
      "source": [
        "y = data_wine['quality']"
      ],
      "execution_count": 18,
      "outputs": []
    },
    {
      "cell_type": "code",
      "metadata": {
        "id": "mO0nX2V8j5s8"
      },
      "source": [
        "data_wine = data_wine.drop(columns = ['quality'])"
      ],
      "execution_count": 19,
      "outputs": []
    },
    {
      "cell_type": "markdown",
      "metadata": {
        "id": "UejT7dRVj5s8"
      },
      "source": [
        "# Preprocess"
      ]
    },
    {
      "cell_type": "code",
      "metadata": {
        "id": "zpx5eDf4j5s9"
      },
      "source": [
        "scaler = StandardScaler()"
      ],
      "execution_count": 20,
      "outputs": []
    },
    {
      "cell_type": "code",
      "metadata": {
        "id": "dArQbbLaj5s9"
      },
      "source": [
        "columns = data_wine.columns"
      ],
      "execution_count": 21,
      "outputs": []
    },
    {
      "cell_type": "code",
      "metadata": {
        "id": "TxsKC_JZj5s9"
      },
      "source": [
        "data_wine = scaler.fit_transform(data_wine)"
      ],
      "execution_count": 22,
      "outputs": []
    },
    {
      "cell_type": "code",
      "metadata": {
        "id": "SEcti2Ndj5s-"
      },
      "source": [
        "data_wine = pd.DataFrame(data_wine, columns = columns)"
      ],
      "execution_count": 23,
      "outputs": []
    },
    {
      "cell_type": "code",
      "metadata": {
        "id": "iYImq7AQlYR4"
      },
      "source": [
        "nan_wine = data_wine.mask(np.random.random(data_wine.shape) < .1)\n",
        "mod_wine = nan_wine.fillna(nan_wine.median())\n",
        "nan_wine = pd.concat([y, nan_wine], axis = 1)\n",
        "nan_wine = nan_wine.dropna()\n",
        "y_nan = nan_wine['quality']\n",
        "nan_wine = nan_wine.drop(columns=['quality'])"
      ],
      "execution_count": 24,
      "outputs": []
    },
    {
      "cell_type": "markdown",
      "metadata": {
        "id": "4NIYlw9xqA06"
      },
      "source": [
        "#Split Data"
      ]
    },
    {
      "cell_type": "code",
      "metadata": {
        "id": "7JqlhFpsj5s_"
      },
      "source": [
        "X_train_nan, X_test_nan, y_train_nan, y_test_nan = train_test_split(nan_wine, y_nan, test_size=0.33, random_state=0)\n",
        "X_train_mod, X_test_mod, y_train_mod, y_test_mod = train_test_split(mod_wine, y, test_size=0.33, random_state=0)"
      ],
      "execution_count": 25,
      "outputs": []
    },
    {
      "cell_type": "markdown",
      "metadata": {
        "id": "ZsWQ5P0Hj5s_"
      },
      "source": [
        "# Models"
      ]
    },
    {
      "cell_type": "code",
      "metadata": {
        "id": "aW70mMg9mm1T"
      },
      "source": [
        "discriminative = LogisticRegression(random_state = 0)\n",
        "generative = GaussianNB()\n",
        "    \n",
        "discriminative.fit(X_train_nan, y_train_nan)\n",
        "generative.fit(X_train_nan, y_train_nan)\n",
        "    \n",
        "dis_nan = discriminative.score(X_test_nan, y_test_nan)\n",
        "gen_nan = generative.score(X_test_nan, y_test_nan)"
      ],
      "execution_count": 26,
      "outputs": []
    },
    {
      "cell_type": "code",
      "metadata": {
        "id": "5mwkOX1Onx88"
      },
      "source": [
        "discriminative = LogisticRegression(random_state = 0)\n",
        "generative = GaussianNB()\n",
        "    \n",
        "discriminative.fit(X_train_mod, y_train_mod)\n",
        "generative.fit(X_train_mod, y_train_mod)\n",
        "    \n",
        "dis_mod = discriminative.score(X_train_mod, y_train_mod)\n",
        "gen_mod = generative.score(X_train_mod, y_train_mod)"
      ],
      "execution_count": 27,
      "outputs": []
    },
    {
      "cell_type": "code",
      "metadata": {
        "colab": {
          "base_uri": "https://localhost:8080/"
        },
        "id": "AZYNAN4PmsJe",
        "outputId": "bc512b17-b8c9-4a75-99c0-fa0d838f775c"
      },
      "source": [
        "print (f'Discriminativo con NaN: {dis_nan}\\nDiscriminativo modificado: {dis_mod}\\ndiff: {dis_mod-dis_nan}\\n')\n",
        "print (f'Generativo con NaN: {gen_nan}\\nGenerativo modificado: {gen_mod}\\ndiff: {gen_mod-gen_nan}')"
      ],
      "execution_count": 28,
      "outputs": [
        {
          "output_type": "stream",
          "name": "stdout",
          "text": [
            "Discriminativo con NaN: 0.43243243243243246\n",
            "Discriminativo modificado: 0.5865671641791045\n",
            "diff: 0.15413473174667203\n",
            "\n",
            "Generativo con NaN: 0.32432432432432434\n",
            "Generativo modificado: 0.5477611940298508\n",
            "diff: 0.22343686970552645\n"
          ]
        }
      ]
    }
  ]
}