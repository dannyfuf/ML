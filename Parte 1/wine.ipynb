{
 "cells": [
  {
   "cell_type": "code",
   "execution_count": 1,
   "metadata": {},
   "outputs": [],
   "source": [
    "import pandas as pd\n",
    "import numpy as np\n",
    "from sklearn.preprocessing import OneHotEncoder\n",
    "from sklearn.preprocessing import StandardScaler\n",
    "from sklearn.model_selection import train_test_split\n",
    "\n",
    "from sklearn.linear_model import LogisticRegression\n",
    "from sklearn.linear_model import Perceptron\n",
    "from sklearn.naive_bayes import BernoulliNB, MultinomialNB, GaussianNB\n",
    "import category_encoders as ce\n",
    "\n",
    "np.random.seed(1)"
   ]
  },
  {
   "cell_type": "code",
   "execution_count": 2,
   "metadata": {},
   "outputs": [],
   "source": [
    "#https://www.kaggle.com/klmsathishkumar/predict-your-bmi-here\n",
    "def ordinal_encoding(df,col,mapping):\n",
    "    ordinal_encoder = ce.OrdinalEncoder(cols = [col],return_df = True,mapping = [{'col':col,'mapping':mapping}])\n",
    "    df_final = ordinal_encoder.fit_transform(df)\n",
    "    return df_final"
   ]
  },
  {
   "cell_type": "markdown",
   "metadata": {},
   "source": [
    "# Import Data"
   ]
  },
  {
   "cell_type": "code",
   "execution_count": 3,
   "metadata": {},
   "outputs": [
    {
     "data": {
      "text/html": [
       "<div>\n",
       "<style scoped>\n",
       "    .dataframe tbody tr th:only-of-type {\n",
       "        vertical-align: middle;\n",
       "    }\n",
       "\n",
       "    .dataframe tbody tr th {\n",
       "        vertical-align: top;\n",
       "    }\n",
       "\n",
       "    .dataframe thead th {\n",
       "        text-align: right;\n",
       "    }\n",
       "</style>\n",
       "<table border=\"1\" class=\"dataframe\">\n",
       "  <thead>\n",
       "    <tr style=\"text-align: right;\">\n",
       "      <th></th>\n",
       "      <th>fixed acidity</th>\n",
       "      <th>volatile acidity</th>\n",
       "      <th>citric acid</th>\n",
       "      <th>residual sugar</th>\n",
       "      <th>chlorides</th>\n",
       "      <th>free sulfur dioxide</th>\n",
       "      <th>total sulfur dioxide</th>\n",
       "      <th>density</th>\n",
       "      <th>pH</th>\n",
       "      <th>sulphates</th>\n",
       "      <th>alcohol</th>\n",
       "      <th>quality</th>\n",
       "    </tr>\n",
       "  </thead>\n",
       "  <tbody>\n",
       "    <tr>\n",
       "      <th>75</th>\n",
       "      <td>8.8</td>\n",
       "      <td>0.41</td>\n",
       "      <td>0.64</td>\n",
       "      <td>2.2</td>\n",
       "      <td>0.093</td>\n",
       "      <td>9.0</td>\n",
       "      <td>42.0</td>\n",
       "      <td>0.9986</td>\n",
       "      <td>3.54</td>\n",
       "      <td>0.66</td>\n",
       "      <td>10.5</td>\n",
       "      <td>5</td>\n",
       "    </tr>\n",
       "  </tbody>\n",
       "</table>\n",
       "</div>"
      ],
      "text/plain": [
       "    fixed acidity  volatile acidity  citric acid  residual sugar  chlorides  \\\n",
       "75            8.8              0.41         0.64             2.2      0.093   \n",
       "\n",
       "    free sulfur dioxide  total sulfur dioxide  density    pH  sulphates  \\\n",
       "75                  9.0                  42.0   0.9986  3.54       0.66   \n",
       "\n",
       "    alcohol  quality  \n",
       "75     10.5        5  "
      ]
     },
     "execution_count": 3,
     "metadata": {},
     "output_type": "execute_result"
    }
   ],
   "source": [
    "data_wine = pd.read_csv('Datasets/wine/wine.csv')\n",
    "data_wine = data_wine.sample(n=1000, random_state=1)\n",
    "data_wine = data_wine.dropna()\n",
    "data_wine.head(1)"
   ]
  },
  {
   "cell_type": "code",
   "execution_count": 4,
   "metadata": {},
   "outputs": [
    {
     "data": {
      "text/plain": [
       "75    5\n",
       "Name: quality, dtype: int64"
      ]
     },
     "execution_count": 4,
     "metadata": {},
     "output_type": "execute_result"
    }
   ],
   "source": [
    "y = data_wine['quality']\n",
    "y.head(1)"
   ]
  },
  {
   "cell_type": "code",
   "execution_count": 5,
   "metadata": {},
   "outputs": [
    {
     "data": {
      "text/html": [
       "<div>\n",
       "<style scoped>\n",
       "    .dataframe tbody tr th:only-of-type {\n",
       "        vertical-align: middle;\n",
       "    }\n",
       "\n",
       "    .dataframe tbody tr th {\n",
       "        vertical-align: top;\n",
       "    }\n",
       "\n",
       "    .dataframe thead th {\n",
       "        text-align: right;\n",
       "    }\n",
       "</style>\n",
       "<table border=\"1\" class=\"dataframe\">\n",
       "  <thead>\n",
       "    <tr style=\"text-align: right;\">\n",
       "      <th></th>\n",
       "      <th>fixed acidity</th>\n",
       "      <th>volatile acidity</th>\n",
       "      <th>citric acid</th>\n",
       "      <th>residual sugar</th>\n",
       "      <th>chlorides</th>\n",
       "      <th>free sulfur dioxide</th>\n",
       "      <th>total sulfur dioxide</th>\n",
       "      <th>density</th>\n",
       "      <th>pH</th>\n",
       "      <th>sulphates</th>\n",
       "      <th>alcohol</th>\n",
       "    </tr>\n",
       "  </thead>\n",
       "  <tbody>\n",
       "    <tr>\n",
       "      <th>75</th>\n",
       "      <td>8.8</td>\n",
       "      <td>0.41</td>\n",
       "      <td>0.64</td>\n",
       "      <td>2.2</td>\n",
       "      <td>0.093</td>\n",
       "      <td>9.0</td>\n",
       "      <td>42.0</td>\n",
       "      <td>0.9986</td>\n",
       "      <td>3.54</td>\n",
       "      <td>0.66</td>\n",
       "      <td>10.5</td>\n",
       "    </tr>\n",
       "  </tbody>\n",
       "</table>\n",
       "</div>"
      ],
      "text/plain": [
       "    fixed acidity  volatile acidity  citric acid  residual sugar  chlorides  \\\n",
       "75            8.8              0.41         0.64             2.2      0.093   \n",
       "\n",
       "    free sulfur dioxide  total sulfur dioxide  density    pH  sulphates  \\\n",
       "75                  9.0                  42.0   0.9986  3.54       0.66   \n",
       "\n",
       "    alcohol  \n",
       "75     10.5  "
      ]
     },
     "execution_count": 5,
     "metadata": {},
     "output_type": "execute_result"
    }
   ],
   "source": [
    "data_wine = data_wine.drop(columns = ['quality'])\n",
    "data_wine.head(1)"
   ]
  },
  {
   "cell_type": "markdown",
   "metadata": {},
   "source": [
    "# Preprocess"
   ]
  },
  {
   "cell_type": "code",
   "execution_count": 6,
   "metadata": {},
   "outputs": [],
   "source": [
    "scaler = StandardScaler()"
   ]
  },
  {
   "cell_type": "code",
   "execution_count": 7,
   "metadata": {},
   "outputs": [],
   "source": [
    "columns = data_wine.columns"
   ]
  },
  {
   "cell_type": "code",
   "execution_count": 8,
   "metadata": {},
   "outputs": [],
   "source": [
    "data_wine = scaler.fit_transform(data_wine)"
   ]
  },
  {
   "cell_type": "code",
   "execution_count": 9,
   "metadata": {},
   "outputs": [
    {
     "data": {
      "text/html": [
       "<div>\n",
       "<style scoped>\n",
       "    .dataframe tbody tr th:only-of-type {\n",
       "        vertical-align: middle;\n",
       "    }\n",
       "\n",
       "    .dataframe tbody tr th {\n",
       "        vertical-align: top;\n",
       "    }\n",
       "\n",
       "    .dataframe thead th {\n",
       "        text-align: right;\n",
       "    }\n",
       "</style>\n",
       "<table border=\"1\" class=\"dataframe\">\n",
       "  <thead>\n",
       "    <tr style=\"text-align: right;\">\n",
       "      <th></th>\n",
       "      <th>fixed acidity</th>\n",
       "      <th>volatile acidity</th>\n",
       "      <th>citric acid</th>\n",
       "      <th>residual sugar</th>\n",
       "      <th>chlorides</th>\n",
       "      <th>free sulfur dioxide</th>\n",
       "      <th>total sulfur dioxide</th>\n",
       "      <th>density</th>\n",
       "      <th>pH</th>\n",
       "      <th>sulphates</th>\n",
       "      <th>alcohol</th>\n",
       "    </tr>\n",
       "  </thead>\n",
       "  <tbody>\n",
       "    <tr>\n",
       "      <th>0</th>\n",
       "      <td>0.26152</td>\n",
       "      <td>-0.651975</td>\n",
       "      <td>1.878216</td>\n",
       "      <td>-0.240903</td>\n",
       "      <td>0.068525</td>\n",
       "      <td>-0.658969</td>\n",
       "      <td>-0.140598</td>\n",
       "      <td>0.968183</td>\n",
       "      <td>1.563748</td>\n",
       "      <td>-0.002718</td>\n",
       "      <td>0.103766</td>\n",
       "    </tr>\n",
       "  </tbody>\n",
       "</table>\n",
       "</div>"
      ],
      "text/plain": [
       "   fixed acidity  volatile acidity  citric acid  residual sugar  chlorides  \\\n",
       "0        0.26152         -0.651975     1.878216       -0.240903   0.068525   \n",
       "\n",
       "   free sulfur dioxide  total sulfur dioxide   density        pH  sulphates  \\\n",
       "0            -0.658969             -0.140598  0.968183  1.563748  -0.002718   \n",
       "\n",
       "    alcohol  \n",
       "0  0.103766  "
      ]
     },
     "execution_count": 9,
     "metadata": {},
     "output_type": "execute_result"
    }
   ],
   "source": [
    "data_wine = pd.DataFrame(data_wine, columns = columns)\n",
    "data_wine.head(1)"
   ]
  },
  {
   "cell_type": "code",
   "execution_count": 10,
   "metadata": {},
   "outputs": [
    {
     "data": {
      "text/plain": [
       "fixed acidity           0\n",
       "volatile acidity        0\n",
       "citric acid             0\n",
       "residual sugar          0\n",
       "chlorides               0\n",
       "free sulfur dioxide     0\n",
       "total sulfur dioxide    0\n",
       "density                 0\n",
       "pH                      0\n",
       "sulphates               0\n",
       "alcohol                 0\n",
       "dtype: int64"
      ]
     },
     "execution_count": 10,
     "metadata": {},
     "output_type": "execute_result"
    }
   ],
   "source": [
    "data_wine.isna().sum()"
   ]
  },
  {
   "cell_type": "markdown",
   "metadata": {},
   "source": [
    "# Split Data"
   ]
  },
  {
   "cell_type": "code",
   "execution_count": 11,
   "metadata": {},
   "outputs": [],
   "source": [
    "X_train, X_test, y_train, y_test = train_test_split(data_wine, y, test_size=0.33, random_state=0)"
   ]
  },
  {
   "cell_type": "code",
   "execution_count": 12,
   "metadata": {},
   "outputs": [
    {
     "data": {
      "text/html": [
       "<div>\n",
       "<style scoped>\n",
       "    .dataframe tbody tr th:only-of-type {\n",
       "        vertical-align: middle;\n",
       "    }\n",
       "\n",
       "    .dataframe tbody tr th {\n",
       "        vertical-align: top;\n",
       "    }\n",
       "\n",
       "    .dataframe thead th {\n",
       "        text-align: right;\n",
       "    }\n",
       "</style>\n",
       "<table border=\"1\" class=\"dataframe\">\n",
       "  <thead>\n",
       "    <tr style=\"text-align: right;\">\n",
       "      <th></th>\n",
       "      <th>fixed acidity</th>\n",
       "      <th>volatile acidity</th>\n",
       "      <th>citric acid</th>\n",
       "      <th>residual sugar</th>\n",
       "      <th>chlorides</th>\n",
       "      <th>free sulfur dioxide</th>\n",
       "      <th>total sulfur dioxide</th>\n",
       "      <th>density</th>\n",
       "      <th>pH</th>\n",
       "      <th>sulphates</th>\n",
       "      <th>alcohol</th>\n",
       "    </tr>\n",
       "  </thead>\n",
       "  <tbody>\n",
       "    <tr>\n",
       "      <th>863</th>\n",
       "      <td>0.548842</td>\n",
       "      <td>-0.935282</td>\n",
       "      <td>0.593843</td>\n",
       "      <td>-0.744961</td>\n",
       "      <td>-0.174670</td>\n",
       "      <td>2.393802</td>\n",
       "      <td>0.263553</td>\n",
       "      <td>-0.140963</td>\n",
       "      <td>1.099373</td>\n",
       "      <td>0.402142</td>\n",
       "      <td>0.480698</td>\n",
       "    </tr>\n",
       "    <tr>\n",
       "      <th>748</th>\n",
       "      <td>-0.542980</td>\n",
       "      <td>0.764561</td>\n",
       "      <td>-1.409779</td>\n",
       "      <td>-0.528936</td>\n",
       "      <td>-0.268206</td>\n",
       "      <td>-0.277373</td>\n",
       "      <td>-0.202775</td>\n",
       "      <td>0.541588</td>\n",
       "      <td>1.364730</td>\n",
       "      <td>-0.581091</td>\n",
       "      <td>-0.932797</td>\n",
       "    </tr>\n",
       "    <tr>\n",
       "      <th>64</th>\n",
       "      <td>0.721234</td>\n",
       "      <td>2.011113</td>\n",
       "      <td>0.028719</td>\n",
       "      <td>-0.096887</td>\n",
       "      <td>-0.062426</td>\n",
       "      <td>1.344412</td>\n",
       "      <td>3.123698</td>\n",
       "      <td>0.594913</td>\n",
       "      <td>-0.426428</td>\n",
       "      <td>-0.754602</td>\n",
       "      <td>-0.932797</td>\n",
       "    </tr>\n",
       "    <tr>\n",
       "      <th>798</th>\n",
       "      <td>-0.428052</td>\n",
       "      <td>2.407743</td>\n",
       "      <td>-1.255654</td>\n",
       "      <td>-0.384920</td>\n",
       "      <td>0.012403</td>\n",
       "      <td>-0.849767</td>\n",
       "      <td>-0.824546</td>\n",
       "      <td>-0.471573</td>\n",
       "      <td>-0.691785</td>\n",
       "      <td>-0.581091</td>\n",
       "      <td>-0.744331</td>\n",
       "    </tr>\n",
       "    <tr>\n",
       "      <th>52</th>\n",
       "      <td>1.927985</td>\n",
       "      <td>-1.388573</td>\n",
       "      <td>1.004842</td>\n",
       "      <td>-0.600944</td>\n",
       "      <td>-0.661059</td>\n",
       "      <td>0.104224</td>\n",
       "      <td>-0.451483</td>\n",
       "      <td>0.040340</td>\n",
       "      <td>-1.023481</td>\n",
       "      <td>0.055119</td>\n",
       "      <td>0.197999</td>\n",
       "    </tr>\n",
       "    <tr>\n",
       "      <th>...</th>\n",
       "      <td>...</td>\n",
       "      <td>...</td>\n",
       "      <td>...</td>\n",
       "      <td>...</td>\n",
       "      <td>...</td>\n",
       "      <td>...</td>\n",
       "      <td>...</td>\n",
       "      <td>...</td>\n",
       "      <td>...</td>\n",
       "      <td>...</td>\n",
       "      <td>...</td>\n",
       "    </tr>\n",
       "    <tr>\n",
       "      <th>835</th>\n",
       "      <td>-0.255659</td>\n",
       "      <td>0.254608</td>\n",
       "      <td>0.182843</td>\n",
       "      <td>-0.384920</td>\n",
       "      <td>-0.193377</td>\n",
       "      <td>-0.563570</td>\n",
       "      <td>1.009678</td>\n",
       "      <td>-0.007652</td>\n",
       "      <td>-0.094732</td>\n",
       "      <td>0.170793</td>\n",
       "      <td>-0.838564</td>\n",
       "    </tr>\n",
       "    <tr>\n",
       "      <th>192</th>\n",
       "      <td>-0.428052</td>\n",
       "      <td>-0.935282</td>\n",
       "      <td>0.182843</td>\n",
       "      <td>-0.600944</td>\n",
       "      <td>-0.193377</td>\n",
       "      <td>0.962815</td>\n",
       "      <td>0.574438</td>\n",
       "      <td>0.200313</td>\n",
       "      <td>1.033034</td>\n",
       "      <td>-0.234067</td>\n",
       "      <td>-0.838564</td>\n",
       "    </tr>\n",
       "    <tr>\n",
       "      <th>629</th>\n",
       "      <td>-0.255659</td>\n",
       "      <td>2.917696</td>\n",
       "      <td>-1.152905</td>\n",
       "      <td>-0.240903</td>\n",
       "      <td>-0.099841</td>\n",
       "      <td>-0.277373</td>\n",
       "      <td>-0.544749</td>\n",
       "      <td>-0.471573</td>\n",
       "      <td>-0.559107</td>\n",
       "      <td>-0.638928</td>\n",
       "      <td>-0.461632</td>\n",
       "    </tr>\n",
       "    <tr>\n",
       "      <th>559</th>\n",
       "      <td>-0.830302</td>\n",
       "      <td>-0.198683</td>\n",
       "      <td>-0.433656</td>\n",
       "      <td>-0.600944</td>\n",
       "      <td>-0.193377</td>\n",
       "      <td>-0.277373</td>\n",
       "      <td>-0.638014</td>\n",
       "      <td>-0.700868</td>\n",
       "      <td>0.502320</td>\n",
       "      <td>-0.118393</td>\n",
       "      <td>-0.555865</td>\n",
       "    </tr>\n",
       "    <tr>\n",
       "      <th>684</th>\n",
       "      <td>2.215306</td>\n",
       "      <td>-1.048605</td>\n",
       "      <td>1.158967</td>\n",
       "      <td>-0.096887</td>\n",
       "      <td>-0.436572</td>\n",
       "      <td>-0.563570</td>\n",
       "      <td>-0.793457</td>\n",
       "      <td>1.714723</td>\n",
       "      <td>-1.222499</td>\n",
       "      <td>3.004817</td>\n",
       "      <td>-1.121263</td>\n",
       "    </tr>\n",
       "  </tbody>\n",
       "</table>\n",
       "<p>670 rows × 11 columns</p>\n",
       "</div>"
      ],
      "text/plain": [
       "     fixed acidity  volatile acidity  citric acid  residual sugar  chlorides  \\\n",
       "863       0.548842         -0.935282     0.593843       -0.744961  -0.174670   \n",
       "748      -0.542980          0.764561    -1.409779       -0.528936  -0.268206   \n",
       "64        0.721234          2.011113     0.028719       -0.096887  -0.062426   \n",
       "798      -0.428052          2.407743    -1.255654       -0.384920   0.012403   \n",
       "52        1.927985         -1.388573     1.004842       -0.600944  -0.661059   \n",
       "..             ...               ...          ...             ...        ...   \n",
       "835      -0.255659          0.254608     0.182843       -0.384920  -0.193377   \n",
       "192      -0.428052         -0.935282     0.182843       -0.600944  -0.193377   \n",
       "629      -0.255659          2.917696    -1.152905       -0.240903  -0.099841   \n",
       "559      -0.830302         -0.198683    -0.433656       -0.600944  -0.193377   \n",
       "684       2.215306         -1.048605     1.158967       -0.096887  -0.436572   \n",
       "\n",
       "     free sulfur dioxide  total sulfur dioxide   density        pH  sulphates  \\\n",
       "863             2.393802              0.263553 -0.140963  1.099373   0.402142   \n",
       "748            -0.277373             -0.202775  0.541588  1.364730  -0.581091   \n",
       "64              1.344412              3.123698  0.594913 -0.426428  -0.754602   \n",
       "798            -0.849767             -0.824546 -0.471573 -0.691785  -0.581091   \n",
       "52              0.104224             -0.451483  0.040340 -1.023481   0.055119   \n",
       "..                   ...                   ...       ...       ...        ...   \n",
       "835            -0.563570              1.009678 -0.007652 -0.094732   0.170793   \n",
       "192             0.962815              0.574438  0.200313  1.033034  -0.234067   \n",
       "629            -0.277373             -0.544749 -0.471573 -0.559107  -0.638928   \n",
       "559            -0.277373             -0.638014 -0.700868  0.502320  -0.118393   \n",
       "684            -0.563570             -0.793457  1.714723 -1.222499   3.004817   \n",
       "\n",
       "      alcohol  \n",
       "863  0.480698  \n",
       "748 -0.932797  \n",
       "64  -0.932797  \n",
       "798 -0.744331  \n",
       "52   0.197999  \n",
       "..        ...  \n",
       "835 -0.838564  \n",
       "192 -0.838564  \n",
       "629 -0.461632  \n",
       "559 -0.555865  \n",
       "684 -1.121263  \n",
       "\n",
       "[670 rows x 11 columns]"
      ]
     },
     "execution_count": 12,
     "metadata": {},
     "output_type": "execute_result"
    }
   ],
   "source": [
    "X_train"
   ]
  },
  {
   "cell_type": "markdown",
   "metadata": {},
   "source": [
    "# Models"
   ]
  },
  {
   "cell_type": "code",
   "execution_count": 13,
   "metadata": {},
   "outputs": [],
   "source": [
    "discriminative = LogisticRegression(random_state = 0)\n",
    "generative = GaussianNB()"
   ]
  },
  {
   "cell_type": "code",
   "execution_count": 14,
   "metadata": {},
   "outputs": [
    {
     "data": {
      "text/plain": [
       "LogisticRegression(random_state=0)"
      ]
     },
     "execution_count": 14,
     "metadata": {},
     "output_type": "execute_result"
    }
   ],
   "source": [
    "discriminative.fit(X_train, y_train)"
   ]
  },
  {
   "cell_type": "code",
   "execution_count": 15,
   "metadata": {},
   "outputs": [
    {
     "data": {
      "text/plain": [
       "0.5787878787878787"
      ]
     },
     "execution_count": 15,
     "metadata": {},
     "output_type": "execute_result"
    }
   ],
   "source": [
    "first_dis = discriminative.score(X_test, y_test)\n",
    "first_dis"
   ]
  },
  {
   "cell_type": "code",
   "execution_count": 16,
   "metadata": {},
   "outputs": [
    {
     "data": {
      "text/plain": [
       "GaussianNB()"
      ]
     },
     "execution_count": 16,
     "metadata": {},
     "output_type": "execute_result"
    }
   ],
   "source": [
    "generative.fit(X_train, y_train)"
   ]
  },
  {
   "cell_type": "code",
   "execution_count": 17,
   "metadata": {},
   "outputs": [
    {
     "data": {
      "text/plain": [
       "0.5363636363636364"
      ]
     },
     "execution_count": 17,
     "metadata": {},
     "output_type": "execute_result"
    }
   ],
   "source": [
    "first_gen = generative.score(X_test, y_test)\n",
    "first_gen"
   ]
  },
  {
   "cell_type": "code",
   "execution_count": 18,
   "metadata": {},
   "outputs": [],
   "source": [
    "new_wine = data_wine.mask(np.random.random(data_wine.shape) < .2)\n",
    "new_wine = new_wine.fillna(new_wine.mean())"
   ]
  },
  {
   "cell_type": "code",
   "execution_count": 19,
   "metadata": {},
   "outputs": [],
   "source": [
    "X_train, X_test, y_train, y_test = train_test_split(new_wine, y, test_size=0.33, random_state=0)"
   ]
  },
  {
   "cell_type": "code",
   "execution_count": 20,
   "metadata": {},
   "outputs": [
    {
     "data": {
      "text/plain": [
       "GaussianNB()"
      ]
     },
     "execution_count": 20,
     "metadata": {},
     "output_type": "execute_result"
    }
   ],
   "source": [
    "discriminative.fit(X_train, y_train)\n",
    "generative.fit(X_train, y_train)"
   ]
  },
  {
   "cell_type": "code",
   "execution_count": 21,
   "metadata": {},
   "outputs": [
    {
     "data": {
      "text/plain": [
       "0.5515151515151515"
      ]
     },
     "execution_count": 21,
     "metadata": {},
     "output_type": "execute_result"
    }
   ],
   "source": [
    "second_dis = discriminative.score(X_test, y_test)\n",
    "second_dis"
   ]
  },
  {
   "cell_type": "code",
   "execution_count": 22,
   "metadata": {},
   "outputs": [
    {
     "data": {
      "text/plain": [
       "0.503030303030303"
      ]
     },
     "execution_count": 22,
     "metadata": {},
     "output_type": "execute_result"
    }
   ],
   "source": [
    "second_gen = generative.score(X_test, y_test)\n",
    "second_gen"
   ]
  },
  {
   "cell_type": "code",
   "execution_count": 23,
   "metadata": {},
   "outputs": [
    {
     "name": "stdout",
     "output_type": "stream",
     "text": [
      "Disminucion entre discriminativo: -0.027272727272727226\n",
      "\n",
      "Disminucion entre generativos: -0.033333333333333326\n",
      "\n"
     ]
    }
   ],
   "source": [
    "print(\"Disminucion entre discriminativo: \" + str(second_dis-first_dis) + \"\\n\")\n",
    "print(\"Disminucion entre generativos: \" + str(second_gen-first_gen) + \"\\n\")"
   ]
  },
  {
   "cell_type": "code",
   "execution_count": null,
   "metadata": {},
   "outputs": [],
   "source": []
  }
 ],
 "metadata": {
  "kernelspec": {
   "display_name": "Python 3",
   "language": "python",
   "name": "python3"
  },
  "language_info": {
   "codemirror_mode": {
    "name": "ipython",
    "version": 3
   },
   "file_extension": ".py",
   "mimetype": "text/x-python",
   "name": "python",
   "nbconvert_exporter": "python",
   "pygments_lexer": "ipython3",
   "version": "3.8.6"
  }
 },
 "nbformat": 4,
 "nbformat_minor": 4
}
