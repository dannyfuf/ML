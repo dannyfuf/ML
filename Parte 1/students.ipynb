{
 "cells": [
  {
   "cell_type": "code",
   "execution_count": 1,
   "metadata": {
    "id": "BnHGHPbADS48"
   },
   "outputs": [],
   "source": [
    "import pandas as pd\n",
    "import numpy as np\n",
    "from sklearn.preprocessing import OneHotEncoder\n",
    "from sklearn.preprocessing import StandardScaler\n",
    "from sklearn.model_selection import train_test_split\n",
    "\n",
    "from sklearn.linear_model import LogisticRegression\n",
    "from sklearn.linear_model import Perceptron\n",
    "from sklearn.naive_bayes import BernoulliNB, MultinomialNB, GaussianNB\n",
    "import category_encoders as ce\n",
    "\n",
    "np.random.seed(1)"
   ]
  },
  {
   "cell_type": "code",
   "execution_count": 2,
   "metadata": {
    "id": "L8rENyNd90Nv"
   },
   "outputs": [],
   "source": [
    "def ordinal_encoding(df,col,mapping):\n",
    "    ordinal_encoder = ce.OrdinalEncoder(cols = [col],return_df = True,mapping = [{'col':col,'mapping':mapping}])\n",
    "    df_final = ordinal_encoder.fit_transform(df)\n",
    "    return df_final"
   ]
  },
  {
   "cell_type": "markdown",
   "metadata": {
    "id": "cjYo6i9kDS5L"
   },
   "source": [
    "# Students"
   ]
  },
  {
   "cell_type": "markdown",
   "metadata": {},
   "source": [
    "## Preprocessing"
   ]
  },
  {
   "cell_type": "code",
   "execution_count": 3,
   "metadata": {
    "id": "F1E3VhS6DS5L"
   },
   "outputs": [],
   "source": [
    "data_students = pd.read_csv('Datasets/students/StudentsPerformance.csv')"
   ]
  },
  {
   "cell_type": "code",
   "execution_count": 4,
   "metadata": {
    "id": "CX-wjl5FFy81"
   },
   "outputs": [],
   "source": [
    "y = data_students['gender']"
   ]
  },
  {
   "cell_type": "code",
   "execution_count": 5,
   "metadata": {
    "id": "jan5JIFcF3WW"
   },
   "outputs": [],
   "source": [
    "data_students = data_students.drop(columns=['gender', 'race/ethnicity'])"
   ]
  },
  {
   "cell_type": "code",
   "execution_count": 6,
   "metadata": {
    "id": "A_WGiX-OGOfq"
   },
   "outputs": [],
   "source": [
    "mapping_education = {\"some college\":0,\"associate's degree\":1,\"high school\":2,\"some high school\":3,\"bachelor's degree\":4, \"master's degree\":5}\n",
    "mapping_lunch = {\"standard\":0,\"free/reduced\":1}\n",
    "mapping_preparation = {\"none\":0,\"completed\":1}"
   ]
  },
  {
   "cell_type": "code",
   "execution_count": 7,
   "metadata": {
    "id": "qsWt5-g2GpNi"
   },
   "outputs": [],
   "source": [
    "data_students[\"lunch\"] = ordinal_encoding(data_students['lunch'],\"lunch\",mapping_lunch)\n",
    "data_students[\"test preparation course\"] = ordinal_encoding(data_students['test preparation course'],\"test preparation course\",mapping_preparation)\n",
    "data_students[\"parental level of education\"] = ordinal_encoding(data_students['parental level of education'],\"parental level of education\",mapping_education)"
   ]
  },
  {
   "cell_type": "code",
   "execution_count": 8,
   "metadata": {
    "id": "IUkvla0ERGYE"
   },
   "outputs": [],
   "source": [
    "scaler = StandardScaler()\n",
    "columns = data_students.columns\n",
    "data_students = scaler.fit_transform(data_students)\n",
    "data_students = pd.DataFrame(data_students, columns = columns)"
   ]
  },
  {
   "cell_type": "markdown",
   "metadata": {},
   "source": [
    "## Create NaN Values"
   ]
  },
  {
   "cell_type": "code",
   "execution_count": 9,
   "metadata": {},
   "outputs": [],
   "source": [
    "# Generate NaN \n",
    "nan_students = data_students.mask(np.random.random(data_students.shape) < .1)"
   ]
  },
  {
   "cell_type": "code",
   "execution_count": 10,
   "metadata": {
    "id": "jq6e3vCfXDcm"
   },
   "outputs": [],
   "source": [
    "# Fill NAN values with median\n",
    "mod_students = nan_students.fillna(nan_students.median())"
   ]
  },
  {
   "cell_type": "code",
   "execution_count": 12,
   "metadata": {},
   "outputs": [],
   "source": [
    "# Drop rows with Nan values\n",
    "nan_students = pd.concat([y, nan_students], axis = 1)\n",
    "nan_students = nan_students.dropna()\n",
    "y_nan = nan_students['gender']\n",
    "nan_students = nan_students.drop(columns=['gender'])"
   ]
  },
  {
   "cell_type": "markdown",
   "metadata": {},
   "source": [
    "## Split Data"
   ]
  },
  {
   "cell_type": "code",
   "execution_count": 13,
   "metadata": {},
   "outputs": [],
   "source": [
    "X_train, X_test, y_train, y_test = train_test_split(data_students, y, test_size=0.33, random_state=0)\n",
    "X_train_nan, X_test_nan, y_train_nan, y_test_nan = train_test_split(nan_students, y_nan, test_size=0.33, random_state=0)\n",
    "X_train_mod, X_test_mod, y_train_mod, y_test_mod = train_test_split(mod_students, y, test_size=0.33, random_state=0)"
   ]
  },
  {
   "cell_type": "markdown",
   "metadata": {},
   "source": [
    "## Models"
   ]
  },
  {
   "cell_type": "code",
   "execution_count": 26,
   "metadata": {},
   "outputs": [],
   "source": [
    "def run_test(prob, data_students):\n",
    "    # Create Noise\n",
    "    nan_students = data_students.mask(np.random.random(data_students.shape) < prob)\n",
    "    mod_students = nan_students.fillna(nan_students.mean())\n",
    "    nan_students = pd.concat([y, nan_students], axis = 1)\n",
    "    nan_students = nan_students.dropna()\n",
    "    y_nan = nan_students['gender']\n",
    "    nan_students = nan_students.drop(columns=['gender'])\n",
    "    \n",
    "    # Split Data\n",
    "    X_train_nan, X_test_nan, y_train_nan, y_test_nan = train_test_split(nan_students, y_nan, test_size=0.33, random_state=0)\n",
    "    X_train_mod, X_test_mod, y_train_mod, y_test_mod = train_test_split(mod_students, y, test_size=0.33, random_state=0)\n",
    "\n",
    "    # With Nan\n",
    "    discriminative = LogisticRegression(random_state = 0)\n",
    "    generative = GaussianNB()\n",
    "    \n",
    "    discriminative.fit(X_train_nan, y_train_nan)\n",
    "    generative.fit(X_train_nan, y_train_nan)\n",
    "    \n",
    "    dis_nan = discriminative.score(X_test_nan, y_test_nan)\n",
    "    mod_nan = generative.score(X_test_nan, y_test_nan)\n",
    "    \n",
    "    # Without Nan\n",
    "    discriminative = LogisticRegression(random_state = 0)\n",
    "    generative = GaussianNB()\n",
    "    \n",
    "    discriminative.fit(X_train_mod, y_train_mod)\n",
    "    generative.fit(X_train_mod, y_train_mod)\n",
    "    \n",
    "    dis_mod = discriminative.score(X_train_mod, y_train_mod)\n",
    "    mod_mod = generative.score(X_train_mod, y_train_mod)\n",
    "    \n",
    "    return (dis_mod-dis_nan, gen_mod-gen_nan)"
   ]
  },
  {
   "cell_type": "markdown",
   "metadata": {},
   "source": [
    "### With NaNs"
   ]
  },
  {
   "cell_type": "code",
   "execution_count": 27,
   "metadata": {},
   "outputs": [],
   "source": [
    "discriminative = LogisticRegression(random_state = 0)\n",
    "generative = GaussianNB()"
   ]
  },
  {
   "cell_type": "code",
   "execution_count": 28,
   "metadata": {},
   "outputs": [
    {
     "data": {
      "text/plain": [
       "GaussianNB()"
      ]
     },
     "execution_count": 28,
     "metadata": {},
     "output_type": "execute_result"
    }
   ],
   "source": [
    "discriminative.fit(X_train_nan, y_train_nan)\n",
    "generative.fit(X_train_nan, y_train_nan)"
   ]
  },
  {
   "cell_type": "code",
   "execution_count": 29,
   "metadata": {},
   "outputs": [],
   "source": [
    "dis_nan = discriminative.score(X_test_nan, y_test_nan)\n",
    "gen_nan = generative.score(X_test_nan, y_test_nan)"
   ]
  },
  {
   "cell_type": "markdown",
   "metadata": {},
   "source": [
    "### Without NaNs"
   ]
  },
  {
   "cell_type": "code",
   "execution_count": 30,
   "metadata": {},
   "outputs": [],
   "source": [
    "discriminative = LogisticRegression(random_state = 0)\n",
    "generative = GaussianNB()"
   ]
  },
  {
   "cell_type": "code",
   "execution_count": 31,
   "metadata": {},
   "outputs": [
    {
     "data": {
      "text/plain": [
       "GaussianNB()"
      ]
     },
     "execution_count": 31,
     "metadata": {},
     "output_type": "execute_result"
    }
   ],
   "source": [
    "discriminative.fit(X_train_mod, y_train_mod)\n",
    "generative.fit(X_train_mod, y_train_mod)"
   ]
  },
  {
   "cell_type": "code",
   "execution_count": 32,
   "metadata": {},
   "outputs": [],
   "source": [
    "dis_mod = discriminative.score(X_test_mod, y_test_mod)\n",
    "gen_mod = generative.score(X_test_mod, y_test_mod)"
   ]
  },
  {
   "cell_type": "code",
   "execution_count": 33,
   "metadata": {
    "colab": {
     "base_uri": "https://localhost:8080/"
    },
    "id": "6b9a58FIHrHX",
    "outputId": "a9871621-d1bd-406c-9340-c02eafe30096"
   },
   "outputs": [
    {
     "name": "stdout",
     "output_type": "stream",
     "text": [
      "Discriminativo con NaN: 0.8722222222222222\n",
      "Discriminativo modificado: 0.8363636363636363\n",
      "diff: -0.03585858585858592\n",
      "\n",
      "Generativo con NaN: 0.7944444444444444\n",
      "Generativo modificado: 0.696969696969697\n",
      "diff: -0.09747474747474738\n"
     ]
    }
   ],
   "source": [
    "print (f'Discriminativo con NaN: {dis_nan}\\nDiscriminativo modificado: {dis_mod}\\ndiff: {dis_mod-dis_nan}\\n')\n",
    "print (f'Generativo con NaN: {gen_nan}\\nGenerativo modificado: {gen_mod}\\ndiff: {gen_mod-gen_nan}')"
   ]
  },
  {
   "cell_type": "code",
   "execution_count": 34,
   "metadata": {},
   "outputs": [],
   "source": [
    "test_values = [.1, .2, .3, .4, .5]"
   ]
  },
  {
   "cell_type": "code",
   "execution_count": 35,
   "metadata": {},
   "outputs": [],
   "source": [
    "values = [run_test(i, data_students) for i in test_values]"
   ]
  },
  {
   "cell_type": "code",
   "execution_count": 36,
   "metadata": {},
   "outputs": [],
   "source": [
    "gen = []\n",
    "dis = []\n",
    "for d, g in values:\n",
    "    dis.append(d)\n",
    "    gen.append(g)"
   ]
  },
  {
   "cell_type": "code",
   "execution_count": 37,
   "metadata": {},
   "outputs": [
    {
     "data": {
      "image/png": "[encoded data removed]",
      "text/plain": [
       "<Figure size 1600x800 with 1 Axes>"
      ]
     },
     "metadata": {
      "needs_background": "light"
     },
     "output_type": "display_data"
    }
   ],
   "source": [
    "import matplotlib.pyplot as plt\n",
    "from matplotlib.pyplot import figure\n",
    "\n",
    "x = test_values\n",
    "figure(figsize=(20, 10), dpi=80)\n",
    "plt.plot(x, dis, label = 'disc')\n",
    "plt.plot(x, gen, label = 'gen')\n",
    "plt.legend()\n",
    "plt.show()"
   ]
  },
  {
   "cell_type": "code",
   "execution_count": null,
   "metadata": {},
   "outputs": [],
   "source": []
  }
 ],
 "metadata": {
  "colab": {
   "collapsed_sections": [],
   "name": "students.ipynb",
   "provenance": []
  },
  "kernelspec": {
   "display_name": "Python 3",
   "language": "python",
   "name": "python3"
  },
  "language_info": {
   "codemirror_mode": {
    "name": "ipython",
    "version": 3
   },
   "file_extension": ".py",
   "mimetype": "text/x-python",
   "name": "python",
   "nbconvert_exporter": "python",
   "pygments_lexer": "ipython3",
   "version": "3.8.6"
  }
 },
 "nbformat": 4,
 "nbformat_minor": 4
}
