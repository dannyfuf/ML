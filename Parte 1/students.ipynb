{
  "nbformat": 4,
  "nbformat_minor": 0,
  "metadata": {
    "colab": {
      "name": "students.ipynb",
      "provenance": [],
      "collapsed_sections": []
    },
    "kernelspec": {
      "display_name": "Python 3",
      "language": "python",
      "name": "python3"
    },
    "language_info": {
      "codemirror_mode": {
        "name": "ipython",
        "version": 3
      },
      "file_extension": ".py",
      "mimetype": "text/x-python",
      "name": "python",
      "nbconvert_exporter": "python",
      "pygments_lexer": "ipython3",
      "version": "3.8.6"
    }
  },
  "cells": [
    {
      "cell_type": "code",
      "metadata": {
        "id": "BnHGHPbADS48"
      },
      "source": [
        "import pandas as pd\n",
        "import numpy as np\n",
        "from sklearn.preprocessing import OneHotEncoder\n",
        "from sklearn.preprocessing import StandardScaler\n",
        "from sklearn.model_selection import train_test_split\n",
        "\n",
        "from sklearn.linear_model import LogisticRegression\n",
        "from sklearn.linear_model import Perceptron\n",
        "from sklearn.naive_bayes import BernoulliNB, MultinomialNB, GaussianNB\n",
        "import category_encoders as ce\n",
        "\n",
        "np.random.seed(1)"
      ],
      "execution_count": 209,
      "outputs": []
    },
    {
      "cell_type": "code",
      "metadata": {
        "id": "L8rENyNd90Nv"
      },
      "source": [
        "def ordinal_encoding(df,col,mapping):\n",
        "    ordinal_encoder = ce.OrdinalEncoder(cols = [col],return_df = True,mapping = [{'col':col,'mapping':mapping}])\n",
        "    df_final = ordinal_encoder.fit_transform(df)\n",
        "    return df_final"
      ],
      "execution_count": 210,
      "outputs": []
    },
    {
      "cell_type": "markdown",
      "metadata": {
        "id": "cjYo6i9kDS5L"
      },
      "source": [
        "# Students"
      ]
    },
    {
      "cell_type": "code",
      "metadata": {
        "id": "F1E3VhS6DS5L"
      },
      "source": [
        "data_students = pd.read_csv('Datasets/students/StudentsPerformance.csv')"
      ],
      "execution_count": 211,
      "outputs": []
    },
    {
      "cell_type": "code",
      "metadata": {
        "id": "CX-wjl5FFy81"
      },
      "source": [
        "y = data_students['gender']"
      ],
      "execution_count": 212,
      "outputs": []
    },
    {
      "cell_type": "code",
      "metadata": {
        "id": "jan5JIFcF3WW"
      },
      "source": [
        "data_students = data_students.drop(columns=['gender', 'race/ethnicity'])"
      ],
      "execution_count": 213,
      "outputs": []
    },
    {
      "cell_type": "code",
      "metadata": {
        "id": "A_WGiX-OGOfq"
      },
      "source": [
        "mapping_education = {\"some college\":0,\"associate's degree\":1,\"high school\":2,\"some high school\":3,\"bachelor's degree\":4, \"master's degree\":5}\n",
        "mapping_lunch = {\"standard\":0,\"free/reduced\":1}\n",
        "mapping_preparation = {\"none\":0,\"completed\":1}"
      ],
      "execution_count": 214,
      "outputs": []
    },
    {
      "cell_type": "code",
      "metadata": {
        "id": "qsWt5-g2GpNi"
      },
      "source": [
        "data_students[\"lunch\"] = ordinal_encoding(data_students['lunch'],\"lunch\",mapping_lunch)\n",
        "data_students[\"test preparation course\"] = ordinal_encoding(data_students['test preparation course'],\"test preparation course\",mapping_preparation)\n",
        "data_students[\"parental level of education\"] = ordinal_encoding(data_students['parental level of education'],\"parental level of education\",mapping_education)"
      ],
      "execution_count": 215,
      "outputs": []
    },
    {
      "cell_type": "code",
      "metadata": {
        "id": "IUkvla0ERGYE"
      },
      "source": [
        "scaler = StandardScaler()\n",
        "columns = data_students.columns\n",
        "data_students = scaler.fit_transform(data_students)\n",
        "data_students = pd.DataFrame(data_students, columns = columns)"
      ],
      "execution_count": 216,
      "outputs": []
    },
    {
      "cell_type": "code",
      "metadata": {
        "id": "jq6e3vCfXDcm"
      },
      "source": [
        "nan_students = data_students.mask(np.random.random(data_students.shape) < .1)\n",
        "mod_students = nan_students.fillna(nan_students.median())\n",
        "nan_students = pd.concat([y, nan_students], axis = 1)\n",
        "nan_students = nan_students.dropna()\n",
        "y_nan = nan_students['gender']\n",
        "nan_students = nan_students.drop(columns=['gender'])"
      ],
      "execution_count": 217,
      "outputs": []
    },
    {
      "cell_type": "code",
      "metadata": {
        "id": "SH0e4FbOR4mt"
      },
      "source": [
        "X_train, X_test, y_train, y_test = train_test_split(data_students, y, test_size=0.33, random_state=0)\n",
        "X_train_nan, X_test_nan, y_train_nan, y_test_nan = train_test_split(nan_students, y_nan, test_size=0.33, random_state=0)\n",
        "X_train_mod, X_test_mod, y_train_mod, y_test_mod = train_test_split(mod_students, y, test_size=0.33, random_state=0)\n",
        "\n",
        "discriminative = LogisticRegression(random_state = 0)\n",
        "generative = GaussianNB()\n",
        "\n",
        "discriminative.fit(X_train, y_train)\n",
        "generative.fit(X_train, y_train)\n",
        "\n",
        "dis_data = discriminative.score(X_test, y_test)\n",
        "gen_data = generative.score(X_test, y_test)\n",
        "\n",
        "discriminative.fit(X_train_nan, y_train_nan)\n",
        "generative.fit(X_train_nan, y_train_nan)\n",
        "\n",
        "dis_nan = discriminative.score(X_test_nan, y_test_nan)\n",
        "gen_nan = generative.score(X_test_nan, y_test_nan)\n",
        "\n",
        "discriminative.fit(X_train_mod, y_train_mod)\n",
        "generative.fit(X_train_mod, y_train_mod)\n",
        "\n",
        "dis_mod = discriminative.score(X_test_mod, y_test_mod)\n",
        "gen_mod = generative.score(X_test_mod, y_test_mod)"
      ],
      "execution_count": 218,
      "outputs": []
    },
    {
      "cell_type": "code",
      "metadata": {
        "colab": {
          "base_uri": "https://localhost:8080/"
        },
        "id": "6b9a58FIHrHX",
        "outputId": "a9871621-d1bd-406c-9340-c02eafe30096"
      },
      "source": [
        "print (\"Discriminativos Original/ Sacando filas con nan/ Rellenando filas con nan\\n\")\n",
        "print (str(dis_data) + \"\\n\" + str(dis_nan) + \"\\n\" + str(dis_mod)+ \"\\n\")\n",
        "print (str(gen_data) + \"\\n\" + str(gen_nan) + \"\\n\" + str(gen_mod))"
      ],
      "execution_count": 219,
      "outputs": [
        {
          "output_type": "stream",
          "name": "stdout",
          "text": [
            "Discriminativos Original/ Sacando filas con nan/ Rellenando filas con nan\n",
            "\n",
            "0.8878787878787879\n",
            "0.8722222222222222\n",
            "0.8363636363636363\n",
            "\n",
            "0.6848484848484848\n",
            "0.7944444444444444\n",
            "0.696969696969697\n"
          ]
        }
      ]
    }
  ]
}