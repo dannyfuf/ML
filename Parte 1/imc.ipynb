{
  "nbformat": 4,
  "nbformat_minor": 0,
  "metadata": {
    "kernelspec": {
      "display_name": "Python 3",
      "language": "python",
      "name": "python3"
    },
    "language_info": {
      "codemirror_mode": {
        "name": "ipython",
        "version": 3
      },
      "file_extension": ".py",
      "mimetype": "text/x-python",
      "name": "python",
      "nbconvert_exporter": "python",
      "pygments_lexer": "ipython3",
      "version": "3.8.6"
    },
    "colab": {
      "name": "imc.ipynb",
      "provenance": [],
      "collapsed_sections": []
    }
  },
  "cells": [
    {
      "cell_type": "code",
      "metadata": {
        "id": "ZMf7knZ3DauD"
      },
      "source": [
        "import pandas as pd\n",
        "import numpy as np\n",
        "from sklearn.preprocessing import OneHotEncoder\n",
        "from sklearn.preprocessing import StandardScaler\n",
        "from sklearn.model_selection import train_test_split\n",
        "\n",
        "from sklearn.linear_model import LogisticRegression\n",
        "from sklearn.linear_model import Perceptron\n",
        "from sklearn.naive_bayes import BernoulliNB, MultinomialNB, GaussianNB\n",
        "import category_encoders as ce\n",
        "\n",
        "np.random.seed(43)"
      ],
      "execution_count": 281,
      "outputs": []
    },
    {
      "cell_type": "code",
      "metadata": {
        "id": "UsmQu6-lDauE"
      },
      "source": [
        "#https://www.kaggle.com/klmsathishkumar/predict-your-bmi-here\n",
        "def ordinal_encoding(df,col,mapping):\n",
        "    ordinal_encoder = ce.OrdinalEncoder(cols = [col],return_df = True,mapping = [{'col':col,'mapping':mapping}])\n",
        "    df_final = ordinal_encoder.fit_transform(df)\n",
        "    return df_final"
      ],
      "execution_count": 282,
      "outputs": []
    },
    {
      "cell_type": "markdown",
      "metadata": {
        "tags": [],
        "id": "ULFBidJdDauF"
      },
      "source": [
        "# Imc"
      ]
    },
    {
      "cell_type": "code",
      "metadata": {
        "id": "dijojuG4DauG"
      },
      "source": [
        "data_imc = pd.read_csv('Datasets/imc/imc.csv')"
      ],
      "execution_count": 283,
      "outputs": []
    },
    {
      "cell_type": "code",
      "metadata": {
        "id": "sxj8gxu5DauH"
      },
      "source": [
        "y = data_imc['Index']"
      ],
      "execution_count": 284,
      "outputs": []
    },
    {
      "cell_type": "code",
      "metadata": {
        "tags": [],
        "id": "Bqt92Y2ODauH"
      },
      "source": [
        "data_imc = data_imc.drop(columns=['Index'])"
      ],
      "execution_count": 285,
      "outputs": []
    },
    {
      "cell_type": "code",
      "metadata": {
        "id": "ItxySFjjDauH"
      },
      "source": [
        "numbers = data_imc\n",
        "numbers = numbers.drop(columns = ['Gender'])\n",
        "columns = numbers.columns"
      ],
      "execution_count": 286,
      "outputs": []
    },
    {
      "cell_type": "code",
      "metadata": {
        "id": "LAYU4nMLDauI"
      },
      "source": [
        "scaler = StandardScaler()"
      ],
      "execution_count": 287,
      "outputs": []
    },
    {
      "cell_type": "code",
      "metadata": {
        "id": "gWrz44eiDauI"
      },
      "source": [
        "numbers = scaler.fit_transform(numbers)"
      ],
      "execution_count": 288,
      "outputs": []
    },
    {
      "cell_type": "code",
      "metadata": {
        "id": "O79pwbsODauI"
      },
      "source": [
        "numbers = pd.DataFrame(numbers, columns = columns)"
      ],
      "execution_count": 289,
      "outputs": []
    },
    {
      "cell_type": "code",
      "metadata": {
        "id": "ZID-Wy4yDauJ"
      },
      "source": [
        "mapping = {\"Male\":0,\"Female\":1}"
      ],
      "execution_count": 290,
      "outputs": []
    },
    {
      "cell_type": "code",
      "metadata": {
        "id": "Pf4xnUtBDauJ"
      },
      "source": [
        "gender = ordinal_encoding(data_imc['Gender'],\"Gender\",mapping)"
      ],
      "execution_count": 291,
      "outputs": []
    },
    {
      "cell_type": "code",
      "metadata": {
        "id": "XiUkZUtqDauJ"
      },
      "source": [
        "data_imc = pd.concat([gender, numbers], axis = 1)\n",
        "X.head(3)\n",
        "\n",
        "nan_imc = data_imc.mask(np.random.random(data_imc.shape) < .1)\n",
        "mod_imc = nan_imc.fillna(nan_imc.median())\n",
        "nan_imc = pd.concat([y, nan_imc], axis = 1)\n",
        "nan_imc = nan_imc.dropna()\n",
        "y_nan = nan_imc['Index']\n",
        "nan_imc = nan_imc.drop(columns=['Index'])"
      ],
      "execution_count": 292,
      "outputs": []
    },
    {
      "cell_type": "code",
      "metadata": {
        "id": "-QCwuzDYDauJ"
      },
      "source": [
        "X_train_data, X_test_data, y_train_data, y_test_data = train_test_split(data_imc, y, test_size=0.33, random_state=0)\n",
        "X_train_nan, X_test_nan, y_train_nan, y_test_nan = train_test_split(nan_imc, y_nan, test_size=0.33, random_state=0)\n",
        "X_train_mod, X_test_mod, y_train_mod, y_test_mod = train_test_split(mod_imc, y, test_size=0.33, random_state=0)"
      ],
      "execution_count": 293,
      "outputs": []
    },
    {
      "cell_type": "code",
      "metadata": {
        "id": "iDaZqsx6DauK"
      },
      "source": [
        "discriminative = LogisticRegression(random_state = 0)\n",
        "generative = GaussianNB()"
      ],
      "execution_count": 294,
      "outputs": []
    },
    {
      "cell_type": "code",
      "metadata": {
        "id": "dpEH1vgMXrek"
      },
      "source": [
        "discriminative.fit(X_train_data, y_train_data)\n",
        "generative.fit(X_train_data, y_train_data)\n",
        "\n",
        "dis_data = discriminative.score(X_test, y_test)\n",
        "gen_data = generative.score(X_test, y_test)"
      ],
      "execution_count": 295,
      "outputs": []
    },
    {
      "cell_type": "code",
      "metadata": {
        "id": "rdc4ThS6XvpJ"
      },
      "source": [
        "discriminative.fit(X_train_nan, y_train_nan)\n",
        "generative.fit(X_train_nan, y_train_nan)\n",
        "\n",
        "dis_nan = discriminative.score(X_test_nan, y_test_nan)\n",
        "gen_nan = generative.score(X_test_nan, y_test_nan)"
      ],
      "execution_count": 296,
      "outputs": []
    },
    {
      "cell_type": "code",
      "metadata": {
        "id": "xTxgdEztX3II"
      },
      "source": [
        "discriminative.fit(X_train_mod, y_train_mod)\n",
        "generative.fit(X_train_mod, y_train_mod)\n",
        "\n",
        "dis_mod = discriminative.score(X_test_mod, y_test_mod)\n",
        "gen_mod = generative.score(X_test_mod, y_test_mod)"
      ],
      "execution_count": 297,
      "outputs": []
    },
    {
      "cell_type": "code",
      "metadata": {
        "colab": {
          "base_uri": "https://localhost:8080/"
        },
        "id": "CbG9qg6mYAfR",
        "outputId": "2b3e23b7-af2e-4406-aa91-ba861ca14123"
      },
      "source": [
        "print (\"Discriminativos Original/ Sacando filas con nan/ Rellenando filas con nan\\n\")\n",
        "print (str(dis_data) + \"\\n\" + str(dis_nan) + \"\\n\" + str(dis_mod)+ \"\\n\")\n",
        "print (\"Generativos Original/ Sacando filas con nan/ Rellenando filas con nan\\n\")\n",
        "print (str(gen_data) + \"\\n\" + str(gen_nan) + \"\\n\" + str(gen_mod))"
      ],
      "execution_count": 298,
      "outputs": [
        {
          "output_type": "stream",
          "name": "stdout",
          "text": [
            "Discriminativos Original/ Sacando filas con nan/ Rellenando filas con nan\n",
            "\n",
            "0.6848484848484848\n",
            "0.8292682926829268\n",
            "0.6606060606060606\n",
            "\n",
            "Generativos Original/ Sacando filas con nan/ Rellenando filas con nan\n",
            "\n",
            "0.5575757575757576\n",
            "0.7154471544715447\n",
            "0.5636363636363636\n"
          ]
        }
      ]
    }
  ]
}