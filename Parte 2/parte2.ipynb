{
 "cells": [
  {
   "cell_type": "markdown",
   "metadata": {
    "tags": []
   },
   "source": [
    "# Imports"
   ]
  },
  {
   "cell_type": "code",
   "execution_count": 1,
   "metadata": {},
   "outputs": [
    {
     "name": "stdout",
     "output_type": "stream",
     "text": [
      "Requirement already satisfied: sklearn in /opt/conda/lib/python3.8/site-packages (0.0)\n",
      "Requirement already satisfied: scikit-learn in /opt/conda/lib/python3.8/site-packages (from sklearn) (1.0.1)\n",
      "Requirement already satisfied: numpy>=1.14.6 in /opt/conda/lib/python3.8/site-packages (from scikit-learn->sklearn) (1.19.5)\n",
      "Requirement already satisfied: scipy>=1.1.0 in /opt/conda/lib/python3.8/site-packages (from scikit-learn->sklearn) (1.7.1)\n",
      "Requirement already satisfied: threadpoolctl>=2.0.0 in /opt/conda/lib/python3.8/site-packages (from scikit-learn->sklearn) (3.0.0)\n",
      "Requirement already satisfied: joblib>=0.11 in /opt/conda/lib/python3.8/site-packages (from scikit-learn->sklearn) (1.1.0)\n",
      "Requirement already satisfied: numpy>=1.14.6 in /opt/conda/lib/python3.8/site-packages (from scikit-learn->sklearn) (1.19.5)\n",
      "Requirement already satisfied: nltk in /opt/conda/lib/python3.8/site-packages (3.6.5)\n",
      "Requirement already satisfied: joblib in /opt/conda/lib/python3.8/site-packages (from nltk) (1.1.0)\n",
      "Requirement already satisfied: tqdm in /opt/conda/lib/python3.8/site-packages (from nltk) (4.54.0)\n",
      "Requirement already satisfied: regex>=2021.8.3 in /opt/conda/lib/python3.8/site-packages (from nltk) (2021.10.21)\n",
      "Requirement already satisfied: click in /opt/conda/lib/python3.8/site-packages (from nltk) (8.0.3)\n"
     ]
    }
   ],
   "source": [
    "!pip install sklearn\n",
    "!pip install nltk"
   ]
  },
  {
   "cell_type": "code",
   "execution_count": 2,
   "metadata": {},
   "outputs": [],
   "source": [
    "import pandas as pd\n",
    "import numpy as np\n",
    "from sklearn.feature_extraction.text import TfidfVectorizer\n",
    "from nltk.corpus import stopwords\n",
    "import nltk\n",
    "from sklearn.naive_bayes import MultinomialNB\n",
    "from nltk.stem import WordNetLemmatizer\n",
    "from sklearn.model_selection import train_test_split\n",
    "from sklearn.model_selection import ShuffleSplit, cross_val_score, GridSearchCV\n",
    "from sklearn.naive_bayes import BernoulliNB\n",
    "from sklearn.preprocessing import OneHotEncoder\n",
    "from sklearn.preprocessing import MinMaxScaler"
   ]
  },
  {
   "cell_type": "code",
   "execution_count": 3,
   "metadata": {},
   "outputs": [
    {
     "name": "stderr",
     "output_type": "stream",
     "text": [
      "[nltk_data] Downloading package stopwords to /home/jovyan/nltk_data...\n",
      "[nltk_data]   Package stopwords is already up-to-date!\n",
      "[nltk_data] Downloading package punkt to /home/jovyan/nltk_data...\n",
      "[nltk_data]   Package punkt is already up-to-date!\n",
      "[nltk_data] Downloading package wordnet to /home/jovyan/nltk_data...\n",
      "[nltk_data]   Package wordnet is already up-to-date!\n"
     ]
    },
    {
     "data": {
      "text/plain": [
       "True"
      ]
     },
     "execution_count": 3,
     "metadata": {},
     "output_type": "execute_result"
    }
   ],
   "source": [
    "nltk.download('stopwords')\n",
    "nltk.download('punkt')\n",
    "nltk.download('wordnet')"
   ]
  },
  {
   "cell_type": "markdown",
   "metadata": {
    "tags": []
   },
   "source": [
    "# Import Data"
   ]
  },
  {
   "cell_type": "code",
   "execution_count": 4,
   "metadata": {},
   "outputs": [],
   "source": [
    "df_train = pd.read_csv('ferramenta_competition_train.csv')\n"
   ]
  },
  {
   "cell_type": "code",
   "execution_count": 5,
   "metadata": {},
   "outputs": [],
   "source": [
    "df_test = pd.read_csv('ferramenta_competition_test_without_labels.csv')"
   ]
  },
  {
   "cell_type": "code",
   "execution_count": 6,
   "metadata": {},
   "outputs": [
    {
     "data": {
      "text/html": [
       "<div>\n",
       "<style scoped>\n",
       "    .dataframe tbody tr th:only-of-type {\n",
       "        vertical-align: middle;\n",
       "    }\n",
       "\n",
       "    .dataframe tbody tr th {\n",
       "        vertical-align: top;\n",
       "    }\n",
       "\n",
       "    .dataframe thead th {\n",
       "        text-align: right;\n",
       "    }\n",
       "</style>\n",
       "<table border=\"1\" class=\"dataframe\">\n",
       "  <thead>\n",
       "    <tr style=\"text-align: right;\">\n",
       "      <th></th>\n",
       "      <th>image</th>\n",
       "      <th>title</th>\n",
       "      <th>description</th>\n",
       "      <th>class</th>\n",
       "      <th>f0</th>\n",
       "      <th>f1</th>\n",
       "      <th>f2</th>\n",
       "      <th>f3</th>\n",
       "      <th>f4</th>\n",
       "      <th>f5</th>\n",
       "      <th>...</th>\n",
       "      <th>f246</th>\n",
       "      <th>f247</th>\n",
       "      <th>f248</th>\n",
       "      <th>f249</th>\n",
       "      <th>f250</th>\n",
       "      <th>f251</th>\n",
       "      <th>f252</th>\n",
       "      <th>f253</th>\n",
       "      <th>f254</th>\n",
       "      <th>f255</th>\n",
       "    </tr>\n",
       "  </thead>\n",
       "  <tbody>\n",
       "    <tr>\n",
       "      <th>0</th>\n",
       "      <td>181587231.jpg</td>\n",
       "      <td>record irwin irwin record 96 morsa da banco pe...</td>\n",
       "      <td>irwin record 96 morsa da banco per tubi 3 152 mm</td>\n",
       "      <td>_@morsetto_strettoio_</td>\n",
       "      <td>0.0</td>\n",
       "      <td>0.0</td>\n",
       "      <td>0.0</td>\n",
       "      <td>0.254326</td>\n",
       "      <td>0.0</td>\n",
       "      <td>0.2474</td>\n",
       "      <td>...</td>\n",
       "      <td>0.237102</td>\n",
       "      <td>0.0</td>\n",
       "      <td>0.0</td>\n",
       "      <td>0.0</td>\n",
       "      <td>0.0</td>\n",
       "      <td>0.0</td>\n",
       "      <td>0.0</td>\n",
       "      <td>0.0</td>\n",
       "      <td>0.063287</td>\n",
       "      <td>0.0</td>\n",
       "    </tr>\n",
       "  </tbody>\n",
       "</table>\n",
       "<p>1 rows × 260 columns</p>\n",
       "</div>"
      ],
      "text/plain": [
       "           image                                              title  \\\n",
       "0  181587231.jpg  record irwin irwin record 96 morsa da banco pe...   \n",
       "\n",
       "                                        description                  class  \\\n",
       "0  irwin record 96 morsa da banco per tubi 3 152 mm  _@morsetto_strettoio_   \n",
       "\n",
       "    f0   f1   f2        f3   f4      f5  ...      f246  f247  f248  f249  \\\n",
       "0  0.0  0.0  0.0  0.254326  0.0  0.2474  ...  0.237102   0.0   0.0   0.0   \n",
       "\n",
       "   f250  f251  f252  f253      f254  f255  \n",
       "0   0.0   0.0   0.0   0.0  0.063287   0.0  \n",
       "\n",
       "[1 rows x 260 columns]"
      ]
     },
     "execution_count": 6,
     "metadata": {},
     "output_type": "execute_result"
    }
   ],
   "source": [
    "df_train.head(1)"
   ]
  },
  {
   "cell_type": "code",
   "execution_count": 7,
   "metadata": {},
   "outputs": [
    {
     "data": {
      "text/html": [
       "<div>\n",
       "<style scoped>\n",
       "    .dataframe tbody tr th:only-of-type {\n",
       "        vertical-align: middle;\n",
       "    }\n",
       "\n",
       "    .dataframe tbody tr th {\n",
       "        vertical-align: top;\n",
       "    }\n",
       "\n",
       "    .dataframe thead th {\n",
       "        text-align: right;\n",
       "    }\n",
       "</style>\n",
       "<table border=\"1\" class=\"dataframe\">\n",
       "  <thead>\n",
       "    <tr style=\"text-align: right;\">\n",
       "      <th></th>\n",
       "      <th>image</th>\n",
       "      <th>title</th>\n",
       "      <th>description</th>\n",
       "      <th>f0</th>\n",
       "      <th>f1</th>\n",
       "      <th>f2</th>\n",
       "      <th>f3</th>\n",
       "      <th>f4</th>\n",
       "      <th>f5</th>\n",
       "      <th>f6</th>\n",
       "      <th>...</th>\n",
       "      <th>f246</th>\n",
       "      <th>f247</th>\n",
       "      <th>f248</th>\n",
       "      <th>f249</th>\n",
       "      <th>f250</th>\n",
       "      <th>f251</th>\n",
       "      <th>f252</th>\n",
       "      <th>f253</th>\n",
       "      <th>f254</th>\n",
       "      <th>f255</th>\n",
       "    </tr>\n",
       "  </thead>\n",
       "  <tbody>\n",
       "    <tr>\n",
       "      <th>0</th>\n",
       "      <td>193298868.jpg</td>\n",
       "      <td>durlach magnat plus morsa da banco con mds 160...</td>\n",
       "      <td>durlach magnat plus morsa da banco con mds 160...</td>\n",
       "      <td>0.084366</td>\n",
       "      <td>0.132483</td>\n",
       "      <td>0.0</td>\n",
       "      <td>0.616159</td>\n",
       "      <td>0.0</td>\n",
       "      <td>0.358702</td>\n",
       "      <td>0.033038</td>\n",
       "      <td>...</td>\n",
       "      <td>0.249871</td>\n",
       "      <td>0.0</td>\n",
       "      <td>0.0</td>\n",
       "      <td>0.0</td>\n",
       "      <td>0.0</td>\n",
       "      <td>0.0</td>\n",
       "      <td>0.0</td>\n",
       "      <td>0.0</td>\n",
       "      <td>0.258719</td>\n",
       "      <td>0.0</td>\n",
       "    </tr>\n",
       "  </tbody>\n",
       "</table>\n",
       "<p>1 rows × 259 columns</p>\n",
       "</div>"
      ],
      "text/plain": [
       "           image                                              title  \\\n",
       "0  193298868.jpg  durlach magnat plus morsa da banco con mds 160...   \n",
       "\n",
       "                                         description        f0        f1   f2  \\\n",
       "0  durlach magnat plus morsa da banco con mds 160...  0.084366  0.132483  0.0   \n",
       "\n",
       "         f3   f4        f5        f6  ...      f246  f247  f248  f249  f250  \\\n",
       "0  0.616159  0.0  0.358702  0.033038  ...  0.249871   0.0   0.0   0.0   0.0   \n",
       "\n",
       "   f251  f252  f253      f254  f255  \n",
       "0   0.0   0.0   0.0  0.258719   0.0  \n",
       "\n",
       "[1 rows x 259 columns]"
      ]
     },
     "execution_count": 7,
     "metadata": {},
     "output_type": "execute_result"
    }
   ],
   "source": [
    "df_test.head(1)"
   ]
  },
  {
   "cell_type": "code",
   "execution_count": 8,
   "metadata": {},
   "outputs": [],
   "source": [
    "y = df_train['class']"
   ]
  },
  {
   "cell_type": "code",
   "execution_count": 9,
   "metadata": {},
   "outputs": [],
   "source": [
    "X = df_train.drop(columns = ['class', 'image'])"
   ]
  },
  {
   "cell_type": "code",
   "execution_count": 10,
   "metadata": {},
   "outputs": [
    {
     "data": {
      "text/html": [
       "<div>\n",
       "<style scoped>\n",
       "    .dataframe tbody tr th:only-of-type {\n",
       "        vertical-align: middle;\n",
       "    }\n",
       "\n",
       "    .dataframe tbody tr th {\n",
       "        vertical-align: top;\n",
       "    }\n",
       "\n",
       "    .dataframe thead th {\n",
       "        text-align: right;\n",
       "    }\n",
       "</style>\n",
       "<table border=\"1\" class=\"dataframe\">\n",
       "  <thead>\n",
       "    <tr style=\"text-align: right;\">\n",
       "      <th></th>\n",
       "      <th>title</th>\n",
       "      <th>description</th>\n",
       "      <th>f0</th>\n",
       "      <th>f1</th>\n",
       "      <th>f2</th>\n",
       "      <th>f3</th>\n",
       "      <th>f4</th>\n",
       "      <th>f5</th>\n",
       "      <th>f6</th>\n",
       "      <th>f7</th>\n",
       "      <th>...</th>\n",
       "      <th>f246</th>\n",
       "      <th>f247</th>\n",
       "      <th>f248</th>\n",
       "      <th>f249</th>\n",
       "      <th>f250</th>\n",
       "      <th>f251</th>\n",
       "      <th>f252</th>\n",
       "      <th>f253</th>\n",
       "      <th>f254</th>\n",
       "      <th>f255</th>\n",
       "    </tr>\n",
       "  </thead>\n",
       "  <tbody>\n",
       "    <tr>\n",
       "      <th>0</th>\n",
       "      <td>record irwin irwin record 96 morsa da banco pe...</td>\n",
       "      <td>irwin record 96 morsa da banco per tubi 3 152 mm</td>\n",
       "      <td>0.0</td>\n",
       "      <td>0.0</td>\n",
       "      <td>0.0</td>\n",
       "      <td>0.254326</td>\n",
       "      <td>0.0</td>\n",
       "      <td>0.2474</td>\n",
       "      <td>0.0</td>\n",
       "      <td>0.039258</td>\n",
       "      <td>...</td>\n",
       "      <td>0.237102</td>\n",
       "      <td>0.0</td>\n",
       "      <td>0.0</td>\n",
       "      <td>0.0</td>\n",
       "      <td>0.0</td>\n",
       "      <td>0.0</td>\n",
       "      <td>0.0</td>\n",
       "      <td>0.0</td>\n",
       "      <td>0.063287</td>\n",
       "      <td>0.0</td>\n",
       "    </tr>\n",
       "  </tbody>\n",
       "</table>\n",
       "<p>1 rows × 258 columns</p>\n",
       "</div>"
      ],
      "text/plain": [
       "                                               title  \\\n",
       "0  record irwin irwin record 96 morsa da banco pe...   \n",
       "\n",
       "                                        description   f0   f1   f2        f3  \\\n",
       "0  irwin record 96 morsa da banco per tubi 3 152 mm  0.0  0.0  0.0  0.254326   \n",
       "\n",
       "    f4      f5   f6        f7  ...      f246  f247  f248  f249  f250  f251  \\\n",
       "0  0.0  0.2474  0.0  0.039258  ...  0.237102   0.0   0.0   0.0   0.0   0.0   \n",
       "\n",
       "   f252  f253      f254  f255  \n",
       "0   0.0   0.0  0.063287   0.0  \n",
       "\n",
       "[1 rows x 258 columns]"
      ]
     },
     "execution_count": 10,
     "metadata": {},
     "output_type": "execute_result"
    }
   ],
   "source": [
    "X.head(1)"
   ]
  },
  {
   "cell_type": "markdown",
   "metadata": {
    "tags": []
   },
   "source": [
    "# Preprocessing"
   ]
  },
  {
   "cell_type": "code",
   "execution_count": 11,
   "metadata": {},
   "outputs": [],
   "source": [
    "from re import search\n",
    "# Código extrído de la Ayudantía 3\n",
    "def my_pre_processer(text, debug = False):\n",
    "    stopwords_it = stopwords.words('italian')\n",
    "    results = []\n",
    "    if (debug):\n",
    "        print(\"Tokenizer result: \", tokenizer(text))\n",
    "    for token in tokenizer(text):\n",
    "        clean_token = token.lower().strip('-').strip('_')\n",
    "        if remove_stops_here and (clean_token in stopwords_it):\n",
    "          continue\n",
    "        #token_pro = stemmer.stem(clean_token) #podemos probar stemming en vez de lematizacion\n",
    "        token_pro = lemmatizer.lemmatize(clean_token) \n",
    "        if len(token_pro) > 2 and not token_pro[0].isdigit() and not bool(search(r'\\d', token_pro)): #elimina palabra largo menor a 2\n",
    "            results.append(token_pro)\n",
    "    return results"
   ]
  },
  {
   "cell_type": "code",
   "execution_count": 12,
   "metadata": {},
   "outputs": [],
   "source": [
    "remove_stops_here = False\n",
    "tokenizer = TfidfVectorizer().build_tokenizer()\n",
    "lemmatizer = WordNetLemmatizer()"
   ]
  },
  {
   "cell_type": "code",
   "execution_count": 13,
   "metadata": {},
   "outputs": [],
   "source": [
    "ngram_max = 4\n",
    "max_features = 10000 # 10mil numeros reales\n",
    "max_df=0.8\n",
    "min_df=1\n",
    "\n",
    "stopwords_it = stopwords.words('italian')+['avra', 'avro', 'fara', 'faro', 'perche', 'piu', 'quantum', 'sara', 'saro', 'stara', 'staro']\n",
    "\n",
    "vectorizer = TfidfVectorizer(stop_words = stopwords_it, tokenizer=my_pre_processer, min_df=min_df, max_df=max_df, max_features=max_features,\n",
    "                             binary=False, use_idf=True, smooth_idf=True, norm=None,#, ngram_range=(1, ngram_max),\n",
    "                             strip_accents = 'unicode', lowercase = True, \n",
    "                            )\n",
    "\n",
    "vectorizer_title = TfidfVectorizer(stop_words = stopwords_it, tokenizer=my_pre_processer, min_df=min_df, max_df=max_df, max_features=max_features,\n",
    "                             binary=False, use_idf=True, smooth_idf=True, norm=None,#, ngram_range=(1, ngram_max),\n",
    "                             strip_accents = 'unicode', lowercase = True, \n",
    "                            )"
   ]
  },
  {
   "cell_type": "code",
   "execution_count": 14,
   "metadata": {},
   "outputs": [
    {
     "data": {
      "text/plain": [
       "count                                                  4207\n",
       "unique                                                 3788\n",
       "top       vernice spray brillante a rapida essicazione p...\n",
       "freq                                                     48\n",
       "Name: description, dtype: object"
      ]
     },
     "execution_count": 14,
     "metadata": {},
     "output_type": "execute_result"
    }
   ],
   "source": [
    "# Creación del vocabulario de las categorías\n",
    "vocabulary = X['description'].append(df_test['description'])\n",
    "vocabulary.describe()"
   ]
  },
  {
   "cell_type": "code",
   "execution_count": 15,
   "metadata": {},
   "outputs": [],
   "source": [
    "# Creación del vocabulario de los titulos\n",
    "vocabulary_title = X['title'].append(df_test['title'])"
   ]
  },
  {
   "cell_type": "code",
   "execution_count": 16,
   "metadata": {},
   "outputs": [
    {
     "name": "stderr",
     "output_type": "stream",
     "text": [
      "/opt/conda/lib/python3.8/site-packages/sklearn/feature_extraction/text.py:516: UserWarning: The parameter 'token_pattern' will not be used since 'tokenizer' is not None'\n",
      "  warnings.warn(\n"
     ]
    },
    {
     "data": {
      "text/plain": [
       "TfidfVectorizer(max_df=0.8, max_features=10000, norm=None,\n",
       "                stop_words=['ad', 'al', 'allo', 'ai', 'agli', 'all', 'agl',\n",
       "                            'alla', 'alle', 'con', 'col', 'coi', 'da', 'dal',\n",
       "                            'dallo', 'dai', 'dagli', 'dall', 'dagl', 'dalla',\n",
       "                            'dalle', 'di', 'del', 'dello', 'dei', 'degli',\n",
       "                            'dell', 'degl', 'della', 'delle', ...],\n",
       "                strip_accents='unicode',\n",
       "                tokenizer=<function my_pre_processer at 0x407fabc820>)"
      ]
     },
     "execution_count": 16,
     "metadata": {},
     "output_type": "execute_result"
    }
   ],
   "source": [
    "vectorizer.fit(vocabulary)"
   ]
  },
  {
   "cell_type": "code",
   "execution_count": 17,
   "metadata": {},
   "outputs": [
    {
     "data": {
      "text/plain": [
       "TfidfVectorizer(max_df=0.8, max_features=10000, norm=None,\n",
       "                stop_words=['ad', 'al', 'allo', 'ai', 'agli', 'all', 'agl',\n",
       "                            'alla', 'alle', 'con', 'col', 'coi', 'da', 'dal',\n",
       "                            'dallo', 'dai', 'dagli', 'dall', 'dagl', 'dalla',\n",
       "                            'dalle', 'di', 'del', 'dello', 'dei', 'degli',\n",
       "                            'dell', 'degl', 'della', 'delle', ...],\n",
       "                strip_accents='unicode',\n",
       "                tokenizer=<function my_pre_processer at 0x407fabc820>)"
      ]
     },
     "execution_count": 17,
     "metadata": {},
     "output_type": "execute_result"
    }
   ],
   "source": [
    "vectorizer_title.fit(vocabulary_title)"
   ]
  },
  {
   "cell_type": "code",
   "execution_count": 18,
   "metadata": {},
   "outputs": [
    {
     "data": {
      "text/plain": [
       "(2524, 4218)"
      ]
     },
     "execution_count": 18,
     "metadata": {},
     "output_type": "execute_result"
    }
   ],
   "source": [
    "# Convertir los textos de entrenamiento\n",
    "X_vectorized = vectorizer.transform(X['description'])\n",
    "X_vectorized.shape"
   ]
  },
  {
   "cell_type": "code",
   "execution_count": 19,
   "metadata": {},
   "outputs": [
    {
     "data": {
      "text/plain": [
       "(2524, 2906)"
      ]
     },
     "execution_count": 19,
     "metadata": {},
     "output_type": "execute_result"
    }
   ],
   "source": [
    "X_title_vectorized = vectorizer_title.transform(X['title'])\n",
    "X_title_vectorized.shape"
   ]
  },
  {
   "cell_type": "code",
   "execution_count": null,
   "metadata": {},
   "outputs": [
    {
     "name": "stderr",
     "output_type": "stream",
     "text": [
      "/opt/conda/lib/python3.8/site-packages/sklearn/utils/deprecation.py:87: FutureWarning: Function get_feature_names is deprecated; get_feature_names is deprecated in 1.0 and will be removed in 1.2. Please use get_feature_names_out instead.\n",
      "  warnings.warn(msg, category=FutureWarning)\n"
     ]
    }
   ],
   "source": [
    "#Creación de dataframes\n",
    "train_feature_names = vectorizer.get_feature_names()\n",
    "dense = X_vectorized.todense()\n",
    "denselist = dense.tolist()\n",
    "df = pd.DataFrame(denselist, columns=[f'cat_{col}' for col in train_feature_names])"
   ]
  },
  {
   "cell_type": "code",
   "execution_count": null,
   "metadata": {},
   "outputs": [],
   "source": [
    "train_feature_names = vectorizer_title.get_feature_names_out()\n",
    "dense = X_title_vectorized.todense()\n",
    "denselist = dense.tolist()\n",
    "title = pd.DataFrame(denselist, columns=[f'title_{col}' for col in train_feature_names])"
   ]
  },
  {
   "cell_type": "code",
   "execution_count": null,
   "metadata": {},
   "outputs": [],
   "source": [
    "X_tmp = X\n",
    "image_data = X_tmp.drop(columns = ['title', 'description'])"
   ]
  },
  {
   "cell_type": "code",
   "execution_count": null,
   "metadata": {},
   "outputs": [],
   "source": [
    "df = pd.concat([title, df, image_data], axis=1).reindex(df.index)\n",
    "df.head(1)"
   ]
  },
  {
   "cell_type": "markdown",
   "metadata": {},
   "source": [
    "# Model"
   ]
  },
  {
   "cell_type": "code",
   "execution_count": null,
   "metadata": {},
   "outputs": [],
   "source": [
    "# Tunning de parametros"
   ]
  },
  {
   "cell_type": "code",
   "execution_count": null,
   "metadata": {},
   "outputs": [],
   "source": [
    "model = MultinomialNB()"
   ]
  },
  {
   "cell_type": "code",
   "execution_count": null,
   "metadata": {},
   "outputs": [],
   "source": [
    "cv = ShuffleSplit(n_splits=5, test_size=0.33, random_state=0)"
   ]
  },
  {
   "cell_type": "code",
   "execution_count": null,
   "metadata": {},
   "outputs": [],
   "source": [
    "parameters = {'alpha': list(range(1,11))}"
   ]
  },
  {
   "cell_type": "code",
   "execution_count": null,
   "metadata": {},
   "outputs": [],
   "source": [
    "clf = GridSearchCV(model, parameters, cv = cv)"
   ]
  },
  {
   "cell_type": "code",
   "execution_count": null,
   "metadata": {},
   "outputs": [],
   "source": [
    "clf.fit(df, y)"
   ]
  },
  {
   "cell_type": "code",
   "execution_count": null,
   "metadata": {},
   "outputs": [],
   "source": [
    "clf.best_estimator_.alpha"
   ]
  },
  {
   "cell_type": "code",
   "execution_count": null,
   "metadata": {},
   "outputs": [],
   "source": [
    "parameters = {'alpha': np.linspace(2,3,5)}"
   ]
  },
  {
   "cell_type": "code",
   "execution_count": null,
   "metadata": {},
   "outputs": [],
   "source": [
    "clf = GridSearchCV(model, parameters, cv = cv)"
   ]
  },
  {
   "cell_type": "code",
   "execution_count": null,
   "metadata": {},
   "outputs": [],
   "source": [
    "clf.fit(df, y)"
   ]
  },
  {
   "cell_type": "code",
   "execution_count": null,
   "metadata": {},
   "outputs": [],
   "source": [
    "clf.best_estimator_.alpha"
   ]
  },
  {
   "cell_type": "code",
   "execution_count": null,
   "metadata": {},
   "outputs": [],
   "source": [
    "# Cross Validation usando el mejor parametro"
   ]
  },
  {
   "cell_type": "code",
   "execution_count": null,
   "metadata": {},
   "outputs": [],
   "source": [
    "model = MultinomialNB(alpha=2.25)"
   ]
  },
  {
   "cell_type": "code",
   "execution_count": null,
   "metadata": {},
   "outputs": [],
   "source": [
    "scores = cross_val_score(model, df, y, cv=cv)\n",
    "scores"
   ]
  },
  {
   "cell_type": "code",
   "execution_count": null,
   "metadata": {},
   "outputs": [],
   "source": [
    "scores.mean()"
   ]
  },
  {
   "cell_type": "markdown",
   "metadata": {},
   "source": [
    "## Testing"
   ]
  },
  {
   "cell_type": "code",
   "execution_count": null,
   "metadata": {},
   "outputs": [],
   "source": [
    "# Entrenamiento y Testing usando división de los datos de entrenamiento"
   ]
  },
  {
   "cell_type": "code",
   "execution_count": null,
   "metadata": {},
   "outputs": [],
   "source": [
    "X_train, X_test, y_train, y_test = train_test_split(df, y, test_size=0.33, random_state=0)"
   ]
  },
  {
   "cell_type": "code",
   "execution_count": null,
   "metadata": {},
   "outputs": [],
   "source": [
    "model.fit(X_train, y_train)"
   ]
  },
  {
   "cell_type": "code",
   "execution_count": null,
   "metadata": {},
   "outputs": [],
   "source": [
    "model.score(X_test, y_test)"
   ]
  },
  {
   "cell_type": "markdown",
   "metadata": {},
   "source": [
    "## Run classification"
   ]
  },
  {
   "cell_type": "code",
   "execution_count": null,
   "metadata": {},
   "outputs": [],
   "source": [
    "# Se reproducen los mismos pasos anteriores de preprocesamiento y \n",
    "# se hace la predicción de las categorias usando la data de prueba"
   ]
  },
  {
   "cell_type": "code",
   "execution_count": null,
   "metadata": {},
   "outputs": [],
   "source": [
    "X_test_vect = vectorizer.transform(df_test['description'])\n",
    "X_test_vect.shape"
   ]
  },
  {
   "cell_type": "code",
   "execution_count": null,
   "metadata": {},
   "outputs": [],
   "source": [
    "X_title_vectorized = vectorizer_title.transform(df_test['title'])\n",
    "X_title_vectorized.shape"
   ]
  },
  {
   "cell_type": "code",
   "execution_count": null,
   "metadata": {},
   "outputs": [],
   "source": [
    "test_feature_names = vectorizer.get_feature_names_out()\n",
    "dense = X_test_vect.todense()\n",
    "denselist = dense.tolist()\n",
    "x_desc = pd.DataFrame(denselist, columns=[f'cat_{col}' for col in test_feature_names])\n",
    "x_desc"
   ]
  },
  {
   "cell_type": "code",
   "execution_count": null,
   "metadata": {},
   "outputs": [],
   "source": [
    "test_feature_names = vectorizer_title.get_feature_names_out()\n",
    "dense = X_title_vectorized.todense()\n",
    "denselist = dense.tolist()\n",
    "x_title = pd.DataFrame(denselist, columns=[f'title_{col}' for col in test_feature_names])\n",
    "x_title"
   ]
  },
  {
   "cell_type": "code",
   "execution_count": null,
   "metadata": {},
   "outputs": [],
   "source": [
    "X_tmp = df_test\n",
    "image_data = X_tmp.drop(columns = ['title', 'description', 'image'])\n",
    "image_data.head(1)"
   ]
  },
  {
   "cell_type": "code",
   "execution_count": null,
   "metadata": {},
   "outputs": [],
   "source": [
    "x_data = pd.concat([x_title, x_desc, image_data], axis=1).reindex(x_desc.index)\n",
    "x_data.head(1)"
   ]
  },
  {
   "cell_type": "code",
   "execution_count": null,
   "metadata": {},
   "outputs": [],
   "source": [
    "y_pred = model.predict(x_data)\n",
    "y_pred"
   ]
  },
  {
   "cell_type": "code",
   "execution_count": null,
   "metadata": {},
   "outputs": [],
   "source": [
    "images = df_test['image']\n",
    "images"
   ]
  },
  {
   "cell_type": "code",
   "execution_count": null,
   "metadata": {},
   "outputs": [],
   "source": [
    "import csv"
   ]
  },
  {
   "cell_type": "code",
   "execution_count": null,
   "metadata": {},
   "outputs": [],
   "source": [
    "with open('submisson.csv', 'w', encoding='UTF8') as f:\n",
    "    writer = csv.writer(f)\n",
    "    writer.writerow(['image', 'class'])\n",
    "    \n",
    "    for i in range(images.shape[0]):\n",
    "        writer.writerow([images[i], y_pred[i]])"
   ]
  },
  {
   "cell_type": "code",
   "execution_count": null,
   "metadata": {},
   "outputs": [],
   "source": []
  }
 ],
 "metadata": {
  "kernelspec": {
   "display_name": "Python 3",
   "language": "python",
   "name": "python3"
  },
  "language_info": {
   "codemirror_mode": {
    "name": "ipython",
    "version": 3
   },
   "file_extension": ".py",
   "mimetype": "text/x-python",
   "name": "python",
   "nbconvert_exporter": "python",
   "pygments_lexer": "ipython3",
   "version": "3.8.6"
  }
 },
 "nbformat": 4,
 "nbformat_minor": 4
}
