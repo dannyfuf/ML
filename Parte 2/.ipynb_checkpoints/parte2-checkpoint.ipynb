{
 "cells": [
  {
   "cell_type": "markdown",
   "metadata": {
    "tags": []
   },
   "source": [
    "# Imports"
   ]
  },
  {
   "cell_type": "code",
   "execution_count": 1,
   "metadata": {},
   "outputs": [
    {
     "name": "stdout",
     "output_type": "stream",
     "text": [
      "Requirement already satisfied: sklearn in /opt/conda/lib/python3.8/site-packages (0.0)\n",
      "Requirement already satisfied: scikit-learn in /opt/conda/lib/python3.8/site-packages (from sklearn) (1.0.1)\n",
      "Requirement already satisfied: numpy>=1.14.6 in /opt/conda/lib/python3.8/site-packages (from scikit-learn->sklearn) (1.19.5)\n",
      "Requirement already satisfied: scipy>=1.1.0 in /opt/conda/lib/python3.8/site-packages (from scikit-learn->sklearn) (1.7.1)\n",
      "Requirement already satisfied: threadpoolctl>=2.0.0 in /opt/conda/lib/python3.8/site-packages (from scikit-learn->sklearn) (3.0.0)\n",
      "Requirement already satisfied: joblib>=0.11 in /opt/conda/lib/python3.8/site-packages (from scikit-learn->sklearn) (1.1.0)\n",
      "Requirement already satisfied: numpy>=1.14.6 in /opt/conda/lib/python3.8/site-packages (from scikit-learn->sklearn) (1.19.5)\n",
      "Requirement already satisfied: nltk in /opt/conda/lib/python3.8/site-packages (3.6.5)\n",
      "Requirement already satisfied: joblib in /opt/conda/lib/python3.8/site-packages (from nltk) (1.1.0)\n",
      "Requirement already satisfied: regex>=2021.8.3 in /opt/conda/lib/python3.8/site-packages (from nltk) (2021.10.21)\n",
      "Requirement already satisfied: click in /opt/conda/lib/python3.8/site-packages (from nltk) (8.0.3)\n",
      "Requirement already satisfied: tqdm in /opt/conda/lib/python3.8/site-packages (from nltk) (4.54.0)\n"
     ]
    }
   ],
   "source": [
    "!pip install sklearn\n",
    "!pip install nltk"
   ]
  },
  {
   "cell_type": "code",
   "execution_count": 30,
   "metadata": {},
   "outputs": [],
   "source": [
    "import pandas as pd\n",
    "import numpy as np\n",
    "from sklearn.feature_extraction.text import TfidfVectorizer\n",
    "from nltk.corpus import stopwords\n",
    "import nltk\n",
    "from sklearn.naive_bayes import MultinomialNB\n",
    "from nltk.stem import WordNetLemmatizer\n",
    "from sklearn.model_selection import train_test_split\n",
    "from sklearn.model_selection import ShuffleSplit, cross_val_score\n",
    "from sklearn.naive_bayes import BernoulliNB\n",
    "from sklearn.preprocessing import OneHotEncoder\n",
    "from sklearn.preprocessing import MinMaxScaler"
   ]
  },
  {
   "cell_type": "code",
   "execution_count": 31,
   "metadata": {},
   "outputs": [
    {
     "name": "stderr",
     "output_type": "stream",
     "text": [
      "[nltk_data] Downloading package stopwords to /home/jovyan/nltk_data...\n",
      "[nltk_data]   Package stopwords is already up-to-date!\n",
      "[nltk_data] Downloading package punkt to /home/jovyan/nltk_data...\n",
      "[nltk_data]   Package punkt is already up-to-date!\n",
      "[nltk_data] Downloading package wordnet to /home/jovyan/nltk_data...\n",
      "[nltk_data]   Package wordnet is already up-to-date!\n"
     ]
    },
    {
     "data": {
      "text/plain": [
       "True"
      ]
     },
     "execution_count": 31,
     "metadata": {},
     "output_type": "execute_result"
    }
   ],
   "source": [
    "nltk.download('stopwords')\n",
    "nltk.download('punkt')\n",
    "nltk.download('wordnet')"
   ]
  },
  {
   "cell_type": "markdown",
   "metadata": {
    "tags": []
   },
   "source": [
    "# Import Data"
   ]
  },
  {
   "cell_type": "code",
   "execution_count": 32,
   "metadata": {},
   "outputs": [],
   "source": [
    "df_train = pd.read_csv('ferramenta_competition_train.csv')\n"
   ]
  },
  {
   "cell_type": "code",
   "execution_count": 33,
   "metadata": {},
   "outputs": [],
   "source": [
    "df_test = pd.read_csv('ferramenta_competition_test_without_labels.csv')"
   ]
  },
  {
   "cell_type": "code",
   "execution_count": 34,
   "metadata": {},
   "outputs": [
    {
     "data": {
      "text/html": [
       "<div>\n",
       "<style scoped>\n",
       "    .dataframe tbody tr th:only-of-type {\n",
       "        vertical-align: middle;\n",
       "    }\n",
       "\n",
       "    .dataframe tbody tr th {\n",
       "        vertical-align: top;\n",
       "    }\n",
       "\n",
       "    .dataframe thead th {\n",
       "        text-align: right;\n",
       "    }\n",
       "</style>\n",
       "<table border=\"1\" class=\"dataframe\">\n",
       "  <thead>\n",
       "    <tr style=\"text-align: right;\">\n",
       "      <th></th>\n",
       "      <th>image</th>\n",
       "      <th>title</th>\n",
       "      <th>description</th>\n",
       "      <th>class</th>\n",
       "      <th>f0</th>\n",
       "      <th>f1</th>\n",
       "      <th>f2</th>\n",
       "      <th>f3</th>\n",
       "      <th>f4</th>\n",
       "      <th>f5</th>\n",
       "      <th>...</th>\n",
       "      <th>f246</th>\n",
       "      <th>f247</th>\n",
       "      <th>f248</th>\n",
       "      <th>f249</th>\n",
       "      <th>f250</th>\n",
       "      <th>f251</th>\n",
       "      <th>f252</th>\n",
       "      <th>f253</th>\n",
       "      <th>f254</th>\n",
       "      <th>f255</th>\n",
       "    </tr>\n",
       "  </thead>\n",
       "  <tbody>\n",
       "    <tr>\n",
       "      <th>0</th>\n",
       "      <td>181587231.jpg</td>\n",
       "      <td>record irwin irwin record 96 morsa da banco pe...</td>\n",
       "      <td>irwin record 96 morsa da banco per tubi 3 152 mm</td>\n",
       "      <td>_@morsetto_strettoio_</td>\n",
       "      <td>0.0</td>\n",
       "      <td>0.0</td>\n",
       "      <td>0.0</td>\n",
       "      <td>0.254326</td>\n",
       "      <td>0.0</td>\n",
       "      <td>0.2474</td>\n",
       "      <td>...</td>\n",
       "      <td>0.237102</td>\n",
       "      <td>0.0</td>\n",
       "      <td>0.0</td>\n",
       "      <td>0.0</td>\n",
       "      <td>0.0</td>\n",
       "      <td>0.0</td>\n",
       "      <td>0.0</td>\n",
       "      <td>0.0</td>\n",
       "      <td>0.063287</td>\n",
       "      <td>0.0</td>\n",
       "    </tr>\n",
       "  </tbody>\n",
       "</table>\n",
       "<p>1 rows × 260 columns</p>\n",
       "</div>"
      ],
      "text/plain": [
       "           image                                              title  \\\n",
       "0  181587231.jpg  record irwin irwin record 96 morsa da banco pe...   \n",
       "\n",
       "                                        description                  class  \\\n",
       "0  irwin record 96 morsa da banco per tubi 3 152 mm  _@morsetto_strettoio_   \n",
       "\n",
       "    f0   f1   f2        f3   f4      f5  ...      f246  f247  f248  f249  \\\n",
       "0  0.0  0.0  0.0  0.254326  0.0  0.2474  ...  0.237102   0.0   0.0   0.0   \n",
       "\n",
       "   f250  f251  f252  f253      f254  f255  \n",
       "0   0.0   0.0   0.0   0.0  0.063287   0.0  \n",
       "\n",
       "[1 rows x 260 columns]"
      ]
     },
     "execution_count": 34,
     "metadata": {},
     "output_type": "execute_result"
    }
   ],
   "source": [
    "df_train.head(1)"
   ]
  },
  {
   "cell_type": "code",
   "execution_count": 35,
   "metadata": {},
   "outputs": [
    {
     "data": {
      "text/html": [
       "<div>\n",
       "<style scoped>\n",
       "    .dataframe tbody tr th:only-of-type {\n",
       "        vertical-align: middle;\n",
       "    }\n",
       "\n",
       "    .dataframe tbody tr th {\n",
       "        vertical-align: top;\n",
       "    }\n",
       "\n",
       "    .dataframe thead th {\n",
       "        text-align: right;\n",
       "    }\n",
       "</style>\n",
       "<table border=\"1\" class=\"dataframe\">\n",
       "  <thead>\n",
       "    <tr style=\"text-align: right;\">\n",
       "      <th></th>\n",
       "      <th>image</th>\n",
       "      <th>title</th>\n",
       "      <th>description</th>\n",
       "      <th>f0</th>\n",
       "      <th>f1</th>\n",
       "      <th>f2</th>\n",
       "      <th>f3</th>\n",
       "      <th>f4</th>\n",
       "      <th>f5</th>\n",
       "      <th>f6</th>\n",
       "      <th>...</th>\n",
       "      <th>f246</th>\n",
       "      <th>f247</th>\n",
       "      <th>f248</th>\n",
       "      <th>f249</th>\n",
       "      <th>f250</th>\n",
       "      <th>f251</th>\n",
       "      <th>f252</th>\n",
       "      <th>f253</th>\n",
       "      <th>f254</th>\n",
       "      <th>f255</th>\n",
       "    </tr>\n",
       "  </thead>\n",
       "  <tbody>\n",
       "    <tr>\n",
       "      <th>0</th>\n",
       "      <td>193298868.jpg</td>\n",
       "      <td>durlach magnat plus morsa da banco con mds 160...</td>\n",
       "      <td>durlach magnat plus morsa da banco con mds 160...</td>\n",
       "      <td>0.084366</td>\n",
       "      <td>0.132483</td>\n",
       "      <td>0.0</td>\n",
       "      <td>0.616159</td>\n",
       "      <td>0.0</td>\n",
       "      <td>0.358702</td>\n",
       "      <td>0.033038</td>\n",
       "      <td>...</td>\n",
       "      <td>0.249871</td>\n",
       "      <td>0.0</td>\n",
       "      <td>0.0</td>\n",
       "      <td>0.0</td>\n",
       "      <td>0.0</td>\n",
       "      <td>0.0</td>\n",
       "      <td>0.0</td>\n",
       "      <td>0.0</td>\n",
       "      <td>0.258719</td>\n",
       "      <td>0.0</td>\n",
       "    </tr>\n",
       "  </tbody>\n",
       "</table>\n",
       "<p>1 rows × 259 columns</p>\n",
       "</div>"
      ],
      "text/plain": [
       "           image                                              title  \\\n",
       "0  193298868.jpg  durlach magnat plus morsa da banco con mds 160...   \n",
       "\n",
       "                                         description        f0        f1   f2  \\\n",
       "0  durlach magnat plus morsa da banco con mds 160...  0.084366  0.132483  0.0   \n",
       "\n",
       "         f3   f4        f5        f6  ...      f246  f247  f248  f249  f250  \\\n",
       "0  0.616159  0.0  0.358702  0.033038  ...  0.249871   0.0   0.0   0.0   0.0   \n",
       "\n",
       "   f251  f252  f253      f254  f255  \n",
       "0   0.0   0.0   0.0  0.258719   0.0  \n",
       "\n",
       "[1 rows x 259 columns]"
      ]
     },
     "execution_count": 35,
     "metadata": {},
     "output_type": "execute_result"
    }
   ],
   "source": [
    "df_test.head(1)"
   ]
  },
  {
   "cell_type": "code",
   "execution_count": 36,
   "metadata": {},
   "outputs": [
    {
     "data": {
      "text/plain": [
       "<bound method NDFrame.describe of               image                                              title  \\\n",
       "0     193298868.jpg  durlach magnat plus morsa da banco con mds 160...   \n",
       "1     180043630.jpg  sicutool morse da banco universali e per insta...   \n",
       "2     180043573.jpg                    sicutool morse da banco 2854 80   \n",
       "3     199501868.jpg  cassa sovrapponibile norma europa 130 lt base ...   \n",
       "4     147033432.jpg  stanley set di pennelli per decorare 5 pz. 0 2...   \n",
       "...             ...                                                ...   \n",
       "1678  122917523.jpg  wiha 32343 pinzette universali professionali e...   \n",
       "1679  190727967.jpg                         reggimensola cm. 24 rovere   \n",
       "1680  192891248.jpg  vernice spray antiscivolo invisibile safe step...   \n",
       "1681  180850683.jpg                kwb 3180 00 grani cv 120 millimetri   \n",
       "1682  185438057.jpg              meister 5144500 vise 125 mm girevole    \n",
       "\n",
       "                                            description        f0        f1  \\\n",
       "0     durlach magnat plus morsa da banco con mds 160...  0.084366  0.132483   \n",
       "1      largh. ganasce mm 160 apertura mm 225 alt. fr...  0.000000  0.000000   \n",
       "2      largh. ganasce mm 80 apertura max mm 105 peso...  0.011956  0.000000   \n",
       "3     contenitori sovrapponibili norma europa realiz...  0.174531  0.123338   \n",
       "4     stanley set di pennelli per decorare 5 pz. 0 2...  0.350889  0.000000   \n",
       "...                                                 ...       ...       ...   \n",
       "1678  wiha 32343 pinzette universali professionali e...  0.231079  0.499572   \n",
       "1679  staffa reggi mensola in metallo con copertura ...  0.266649  0.416199   \n",
       "1680  bombola spray antiscivolo da ml 400. rimedio i...  0.091990  0.174466   \n",
       "1681                kwb 3180 00 grani cv 120 millimetri  0.205065  0.412812   \n",
       "1682              meister 5144500 vise 125 mm girevole   0.000000  0.000000   \n",
       "\n",
       "            f2        f3   f4        f5        f6  ...      f246  f247  f248  \\\n",
       "0     0.000000  0.616159  0.0  0.358702  0.033038  ...  0.249871   0.0   0.0   \n",
       "1     0.198770  0.908536  0.0  0.123547  0.000000  ...  0.337951   0.0   0.0   \n",
       "2     0.000000  0.457699  0.0  0.141502  0.000000  ...  0.388767   0.0   0.0   \n",
       "3     0.005443  0.593127  0.0  0.036032  0.378701  ...  0.000000   0.0   0.0   \n",
       "4     0.000000  0.721987  0.0  0.254078  0.299150  ...  0.445638   0.0   0.0   \n",
       "...        ...       ...  ...       ...       ...  ...       ...   ...   ...   \n",
       "1678  0.000000  0.922107  0.0  0.151559  0.032079  ...  0.271363   0.0   0.0   \n",
       "1679  0.000000  0.800616  0.0  0.569619  0.303016  ...  0.175905   0.0   0.0   \n",
       "1680  0.000000  0.000000  0.0  0.827507  0.108458  ...  0.440010   0.0   0.0   \n",
       "1681  0.000000  0.644887  0.0  0.184130  0.019073  ...  0.190503   0.0   0.0   \n",
       "1682  0.000000  0.570114  0.0  0.277864  0.514845  ...  0.417533   0.0   0.0   \n",
       "\n",
       "      f249      f250  f251      f252      f253      f254      f255  \n",
       "0      0.0  0.000000   0.0  0.000000  0.000000  0.258719  0.000000  \n",
       "1      0.0  0.195993   0.0  0.000000  0.003187  0.147880  0.148991  \n",
       "2      0.0  0.000000   0.0  0.000000  0.084646  0.000000  0.129974  \n",
       "3      0.0  0.000000   0.0  0.171820  0.000000  0.000000  0.000000  \n",
       "4      0.0  0.000000   0.0  0.005650  0.000000  0.030347  0.000000  \n",
       "...    ...       ...   ...       ...       ...       ...       ...  \n",
       "1678   0.0  0.000000   0.0  0.000000  0.000000  0.243675  0.000000  \n",
       "1679   0.0  0.000000   0.0  0.097449  0.000000  0.098140  0.000000  \n",
       "1680   0.0  0.000000   0.0  0.213713  0.000000  0.358742  0.000000  \n",
       "1681   0.0  0.000000   0.0  0.000000  0.000000  0.117879  0.000000  \n",
       "1682   0.0  0.000000   0.0  0.000000  0.000000  0.028844  0.184699  \n",
       "\n",
       "[1683 rows x 259 columns]>"
      ]
     },
     "execution_count": 36,
     "metadata": {},
     "output_type": "execute_result"
    }
   ],
   "source": [
    "df_test.describe"
   ]
  },
  {
   "cell_type": "code",
   "execution_count": 37,
   "metadata": {},
   "outputs": [],
   "source": [
    "y = df_train['class']"
   ]
  },
  {
   "cell_type": "code",
   "execution_count": 38,
   "metadata": {},
   "outputs": [
    {
     "data": {
      "text/plain": [
       "count                     2524\n",
       "unique                      16\n",
       "top       _@staffa_squadretta_\n",
       "freq                       285\n",
       "Name: class, dtype: object"
      ]
     },
     "execution_count": 38,
     "metadata": {},
     "output_type": "execute_result"
    }
   ],
   "source": [
    "y.describe()"
   ]
  },
  {
   "cell_type": "code",
   "execution_count": 39,
   "metadata": {},
   "outputs": [],
   "source": [
    "X = df_train.drop(columns = ['class', 'image'])\n",
    "\n",
    "#drop image descriptorb\n",
    "#X = X.drop(columns = [f'f{i}' for i in range(256)])\n",
    "\n",
    "#split data\n",
    "#X_train, X_test, y_train, y_test = train_test_split( X, y, test_size=0.33, random_state=42)\n"
   ]
  },
  {
   "cell_type": "code",
   "execution_count": 40,
   "metadata": {},
   "outputs": [
    {
     "data": {
      "text/html": [
       "<div>\n",
       "<style scoped>\n",
       "    .dataframe tbody tr th:only-of-type {\n",
       "        vertical-align: middle;\n",
       "    }\n",
       "\n",
       "    .dataframe tbody tr th {\n",
       "        vertical-align: top;\n",
       "    }\n",
       "\n",
       "    .dataframe thead th {\n",
       "        text-align: right;\n",
       "    }\n",
       "</style>\n",
       "<table border=\"1\" class=\"dataframe\">\n",
       "  <thead>\n",
       "    <tr style=\"text-align: right;\">\n",
       "      <th></th>\n",
       "      <th>title</th>\n",
       "      <th>description</th>\n",
       "      <th>f0</th>\n",
       "      <th>f1</th>\n",
       "      <th>f2</th>\n",
       "      <th>f3</th>\n",
       "      <th>f4</th>\n",
       "      <th>f5</th>\n",
       "      <th>f6</th>\n",
       "      <th>f7</th>\n",
       "      <th>...</th>\n",
       "      <th>f246</th>\n",
       "      <th>f247</th>\n",
       "      <th>f248</th>\n",
       "      <th>f249</th>\n",
       "      <th>f250</th>\n",
       "      <th>f251</th>\n",
       "      <th>f252</th>\n",
       "      <th>f253</th>\n",
       "      <th>f254</th>\n",
       "      <th>f255</th>\n",
       "    </tr>\n",
       "  </thead>\n",
       "  <tbody>\n",
       "    <tr>\n",
       "      <th>0</th>\n",
       "      <td>record irwin irwin record 96 morsa da banco pe...</td>\n",
       "      <td>irwin record 96 morsa da banco per tubi 3 152 mm</td>\n",
       "      <td>0.0</td>\n",
       "      <td>0.0</td>\n",
       "      <td>0.0</td>\n",
       "      <td>0.254326</td>\n",
       "      <td>0.0</td>\n",
       "      <td>0.2474</td>\n",
       "      <td>0.0</td>\n",
       "      <td>0.039258</td>\n",
       "      <td>...</td>\n",
       "      <td>0.237102</td>\n",
       "      <td>0.0</td>\n",
       "      <td>0.0</td>\n",
       "      <td>0.0</td>\n",
       "      <td>0.0</td>\n",
       "      <td>0.0</td>\n",
       "      <td>0.0</td>\n",
       "      <td>0.0</td>\n",
       "      <td>0.063287</td>\n",
       "      <td>0.0</td>\n",
       "    </tr>\n",
       "  </tbody>\n",
       "</table>\n",
       "<p>1 rows × 258 columns</p>\n",
       "</div>"
      ],
      "text/plain": [
       "                                               title  \\\n",
       "0  record irwin irwin record 96 morsa da banco pe...   \n",
       "\n",
       "                                        description   f0   f1   f2        f3  \\\n",
       "0  irwin record 96 morsa da banco per tubi 3 152 mm  0.0  0.0  0.0  0.254326   \n",
       "\n",
       "    f4      f5   f6        f7  ...      f246  f247  f248  f249  f250  f251  \\\n",
       "0  0.0  0.2474  0.0  0.039258  ...  0.237102   0.0   0.0   0.0   0.0   0.0   \n",
       "\n",
       "   f252  f253      f254  f255  \n",
       "0   0.0   0.0  0.063287   0.0  \n",
       "\n",
       "[1 rows x 258 columns]"
      ]
     },
     "execution_count": 40,
     "metadata": {},
     "output_type": "execute_result"
    }
   ],
   "source": [
    "X.head(1)"
   ]
  },
  {
   "cell_type": "code",
   "execution_count": 41,
   "metadata": {},
   "outputs": [],
   "source": [
    "#X_train.head(1)"
   ]
  },
  {
   "cell_type": "code",
   "execution_count": 42,
   "metadata": {},
   "outputs": [],
   "source": [
    "#print(y_train.head(1), '\\n')\n",
    "#y_train.describe()"
   ]
  },
  {
   "cell_type": "markdown",
   "metadata": {
    "tags": []
   },
   "source": [
    "# Preprocessing"
   ]
  },
  {
   "cell_type": "code",
   "execution_count": 43,
   "metadata": {},
   "outputs": [],
   "source": [
    "from re import search\n",
    "def my_pre_processer(text, debug = False):\n",
    "    stopwords_it = stopwords.words('italian')\n",
    "    results = []\n",
    "    if (debug):\n",
    "        print(\"Tokenizer result: \", tokenizer(text))\n",
    "    for token in tokenizer(text):\n",
    "        clean_token = token.lower().strip('-').strip('_')\n",
    "        if remove_stops_here and (clean_token in stopwords_it):\n",
    "          continue\n",
    "        #token_pro = stemmer.stem(clean_token) #podemos probar stemming en vez de lematizacion\n",
    "        token_pro = lemmatizer.lemmatize(clean_token) \n",
    "        if len(token_pro) > 2 and not token_pro[0].isdigit() and not bool(search(r'\\d', token_pro)): #elimina palabra largo menor a 2\n",
    "            results.append(token_pro)\n",
    "    return results"
   ]
  },
  {
   "cell_type": "code",
   "execution_count": 44,
   "metadata": {},
   "outputs": [
    {
     "data": {
      "text/html": [
       "<div>\n",
       "<style scoped>\n",
       "    .dataframe tbody tr th:only-of-type {\n",
       "        vertical-align: middle;\n",
       "    }\n",
       "\n",
       "    .dataframe tbody tr th {\n",
       "        vertical-align: top;\n",
       "    }\n",
       "\n",
       "    .dataframe thead th {\n",
       "        text-align: right;\n",
       "    }\n",
       "</style>\n",
       "<table border=\"1\" class=\"dataframe\">\n",
       "  <thead>\n",
       "    <tr style=\"text-align: right;\">\n",
       "      <th></th>\n",
       "      <th>title</th>\n",
       "      <th>description</th>\n",
       "      <th>f0</th>\n",
       "      <th>f1</th>\n",
       "      <th>f2</th>\n",
       "      <th>f3</th>\n",
       "      <th>f4</th>\n",
       "      <th>f5</th>\n",
       "      <th>f6</th>\n",
       "      <th>f7</th>\n",
       "      <th>...</th>\n",
       "      <th>f246</th>\n",
       "      <th>f247</th>\n",
       "      <th>f248</th>\n",
       "      <th>f249</th>\n",
       "      <th>f250</th>\n",
       "      <th>f251</th>\n",
       "      <th>f252</th>\n",
       "      <th>f253</th>\n",
       "      <th>f254</th>\n",
       "      <th>f255</th>\n",
       "    </tr>\n",
       "  </thead>\n",
       "  <tbody>\n",
       "    <tr>\n",
       "      <th>0</th>\n",
       "      <td>record irwin irwin record 96 morsa da banco pe...</td>\n",
       "      <td>irwin record 96 morsa da banco per tubi 3 152 mm</td>\n",
       "      <td>0.0</td>\n",
       "      <td>0.0</td>\n",
       "      <td>0.0</td>\n",
       "      <td>0.254326</td>\n",
       "      <td>0.0</td>\n",
       "      <td>0.2474</td>\n",
       "      <td>0.0</td>\n",
       "      <td>0.039258</td>\n",
       "      <td>...</td>\n",
       "      <td>0.237102</td>\n",
       "      <td>0.0</td>\n",
       "      <td>0.0</td>\n",
       "      <td>0.0</td>\n",
       "      <td>0.0</td>\n",
       "      <td>0.0</td>\n",
       "      <td>0.0</td>\n",
       "      <td>0.0</td>\n",
       "      <td>0.063287</td>\n",
       "      <td>0.0</td>\n",
       "    </tr>\n",
       "  </tbody>\n",
       "</table>\n",
       "<p>1 rows × 258 columns</p>\n",
       "</div>"
      ],
      "text/plain": [
       "                                               title  \\\n",
       "0  record irwin irwin record 96 morsa da banco pe...   \n",
       "\n",
       "                                        description   f0   f1   f2        f3  \\\n",
       "0  irwin record 96 morsa da banco per tubi 3 152 mm  0.0  0.0  0.0  0.254326   \n",
       "\n",
       "    f4      f5   f6        f7  ...      f246  f247  f248  f249  f250  f251  \\\n",
       "0  0.0  0.2474  0.0  0.039258  ...  0.237102   0.0   0.0   0.0   0.0   0.0   \n",
       "\n",
       "   f252  f253      f254  f255  \n",
       "0   0.0   0.0  0.063287   0.0  \n",
       "\n",
       "[1 rows x 258 columns]"
      ]
     },
     "execution_count": 44,
     "metadata": {},
     "output_type": "execute_result"
    }
   ],
   "source": [
    "X.head(1)"
   ]
  },
  {
   "cell_type": "code",
   "execution_count": 45,
   "metadata": {},
   "outputs": [],
   "source": [
    "remove_stops_here = False\n",
    "tokenizer = TfidfVectorizer().build_tokenizer()\n",
    "lemmatizer = WordNetLemmatizer()\n",
    "# X['description_processed'] = X['description'].apply(my_pre_processer)"
   ]
  },
  {
   "cell_type": "code",
   "execution_count": 46,
   "metadata": {},
   "outputs": [],
   "source": [
    "#X.head(3)"
   ]
  },
  {
   "cell_type": "code",
   "execution_count": 47,
   "metadata": {},
   "outputs": [],
   "source": [
    "ngram_max = 4\n",
    "max_features = 10000 # 10mil numeros reales\n",
    "max_df=0.8\n",
    "min_df=1\n",
    "\n",
    "stopwords_it = stopwords.words('italian')+['avra', 'avro', 'fara', 'faro', 'perche', 'piu', 'quantum', 'sara', 'saro', 'stara', 'staro']\n",
    "# vectorizer = TfidfVectorizer(stop_words = stopwords_it, tokenizer=my_pre_processer,min_df=min_df, max_df=max_df, max_features=max_features,\n",
    "#                               binary=False, use_idf=True, smooth_idf=True, norm=None, ngram_range=(1, ngram_max))\n",
    "\n",
    "vectorizer = TfidfVectorizer(stop_words = stopwords_it, tokenizer=my_pre_processer, min_df=min_df, max_df=max_df, max_features=max_features,\n",
    "                             binary=False, use_idf=True, smooth_idf=True, norm=None,#, ngram_range=(1, ngram_max),\n",
    "                             strip_accents = 'unicode', lowercase = True, \n",
    "                            )"
   ]
  },
  {
   "cell_type": "code",
   "execution_count": null,
   "metadata": {},
   "outputs": [],
   "source": []
  },
  {
   "cell_type": "code",
   "execution_count": 48,
   "metadata": {},
   "outputs": [
    {
     "data": {
      "text/plain": [
       "count                                                  4207\n",
       "unique                                                 3788\n",
       "top       vernice spray brillante a rapida essicazione p...\n",
       "freq                                                     48\n",
       "Name: description, dtype: object"
      ]
     },
     "execution_count": 48,
     "metadata": {},
     "output_type": "execute_result"
    }
   ],
   "source": [
    "vocabulary = X['description'].append(df_test['description'])\n",
    "vocabulary.describe()"
   ]
  },
  {
   "cell_type": "code",
   "execution_count": 49,
   "metadata": {},
   "outputs": [
    {
     "name": "stderr",
     "output_type": "stream",
     "text": [
      "/opt/conda/lib/python3.8/site-packages/sklearn/feature_extraction/text.py:516: UserWarning: The parameter 'token_pattern' will not be used since 'tokenizer' is not None'\n",
      "  warnings.warn(\n"
     ]
    },
    {
     "data": {
      "text/plain": [
       "TfidfVectorizer(max_df=0.8, max_features=10000, norm=None,\n",
       "                stop_words=['ad', 'al', 'allo', 'ai', 'agli', 'all', 'agl',\n",
       "                            'alla', 'alle', 'con', 'col', 'coi', 'da', 'dal',\n",
       "                            'dallo', 'dai', 'dagli', 'dall', 'dagl', 'dalla',\n",
       "                            'dalle', 'di', 'del', 'dello', 'dei', 'degli',\n",
       "                            'dell', 'degl', 'della', 'delle', ...],\n",
       "                strip_accents='unicode',\n",
       "                tokenizer=<function my_pre_processer at 0x40b164fca0>)"
      ]
     },
     "execution_count": 49,
     "metadata": {},
     "output_type": "execute_result"
    }
   ],
   "source": [
    "#create vocabulary\n",
    "vectorizer.fit(vocabulary)"
   ]
  },
  {
   "cell_type": "code",
   "execution_count": 50,
   "metadata": {},
   "outputs": [
    {
     "data": {
      "text/plain": [
       "(2524, 4218)"
      ]
     },
     "execution_count": 50,
     "metadata": {},
     "output_type": "execute_result"
    }
   ],
   "source": [
    "# process X\n",
    "X_vectorized = vectorizer.transform(X['description'])\n",
    "X_vectorized.shape"
   ]
  },
  {
   "cell_type": "code",
   "execution_count": 51,
   "metadata": {},
   "outputs": [
    {
     "name": "stderr",
     "output_type": "stream",
     "text": [
      "/opt/conda/lib/python3.8/site-packages/sklearn/utils/deprecation.py:87: FutureWarning: Function get_feature_names is deprecated; get_feature_names is deprecated in 1.0 and will be removed in 1.2. Please use get_feature_names_out instead.\n",
      "  warnings.warn(msg, category=FutureWarning)\n"
     ]
    }
   ],
   "source": [
    "train_feature_names = vectorizer.get_feature_names()\n",
    "dense = X_vectorized.todense()\n",
    "denselist = dense.tolist()\n",
    "df = pd.DataFrame(denselist, columns=train_feature_names)"
   ]
  },
  {
   "cell_type": "code",
   "execution_count": 52,
   "metadata": {},
   "outputs": [],
   "source": [
    "X_tmp = X\n",
    "image_data = X_tmp.drop(columns = ['title', 'description'])\n",
    "#image_data.describe()\n",
    "# scaler = MinMaxScaler(feature_range=(0, 1))\n",
    "# scaled = scaler.fit_transform(image_data)\n",
    "# image_data = pd.DataFrame(scaled, columns = [f'f{i}' for i in range(0, 256)])"
   ]
  },
  {
   "cell_type": "code",
   "execution_count": 53,
   "metadata": {},
   "outputs": [
    {
     "data": {
      "text/html": [
       "<div>\n",
       "<style scoped>\n",
       "    .dataframe tbody tr th:only-of-type {\n",
       "        vertical-align: middle;\n",
       "    }\n",
       "\n",
       "    .dataframe tbody tr th {\n",
       "        vertical-align: top;\n",
       "    }\n",
       "\n",
       "    .dataframe thead th {\n",
       "        text-align: right;\n",
       "    }\n",
       "</style>\n",
       "<table border=\"1\" class=\"dataframe\">\n",
       "  <thead>\n",
       "    <tr style=\"text-align: right;\">\n",
       "      <th></th>\n",
       "      <th>abbattibile</th>\n",
       "      <th>abbattibili</th>\n",
       "      <th>abbinamento</th>\n",
       "      <th>abbinare</th>\n",
       "      <th>abbrennspachtel</th>\n",
       "      <th>abr</th>\n",
       "      <th>abracs</th>\n",
       "      <th>abrasione</th>\n",
       "      <th>abrasiva</th>\n",
       "      <th>abrasive</th>\n",
       "      <th>...</th>\n",
       "      <th>f246</th>\n",
       "      <th>f247</th>\n",
       "      <th>f248</th>\n",
       "      <th>f249</th>\n",
       "      <th>f250</th>\n",
       "      <th>f251</th>\n",
       "      <th>f252</th>\n",
       "      <th>f253</th>\n",
       "      <th>f254</th>\n",
       "      <th>f255</th>\n",
       "    </tr>\n",
       "  </thead>\n",
       "  <tbody>\n",
       "    <tr>\n",
       "      <th>0</th>\n",
       "      <td>0.0</td>\n",
       "      <td>0.0</td>\n",
       "      <td>0.0</td>\n",
       "      <td>0.0</td>\n",
       "      <td>0.0</td>\n",
       "      <td>0.0</td>\n",
       "      <td>0.0</td>\n",
       "      <td>0.0</td>\n",
       "      <td>0.0</td>\n",
       "      <td>0.0</td>\n",
       "      <td>...</td>\n",
       "      <td>0.237102</td>\n",
       "      <td>0.0</td>\n",
       "      <td>0.0</td>\n",
       "      <td>0.0</td>\n",
       "      <td>0.0</td>\n",
       "      <td>0.0</td>\n",
       "      <td>0.0</td>\n",
       "      <td>0.0</td>\n",
       "      <td>0.063287</td>\n",
       "      <td>0.0</td>\n",
       "    </tr>\n",
       "  </tbody>\n",
       "</table>\n",
       "<p>1 rows × 4474 columns</p>\n",
       "</div>"
      ],
      "text/plain": [
       "   abbattibile  abbattibili  abbinamento  abbinare  abbrennspachtel  abr  \\\n",
       "0          0.0          0.0          0.0       0.0              0.0  0.0   \n",
       "\n",
       "   abracs  abrasione  abrasiva  abrasive  ...      f246  f247  f248  f249  \\\n",
       "0     0.0        0.0       0.0       0.0  ...  0.237102   0.0   0.0   0.0   \n",
       "\n",
       "   f250  f251  f252  f253      f254  f255  \n",
       "0   0.0   0.0   0.0   0.0  0.063287   0.0  \n",
       "\n",
       "[1 rows x 4474 columns]"
      ]
     },
     "execution_count": 53,
     "metadata": {},
     "output_type": "execute_result"
    }
   ],
   "source": [
    "df = pd.concat([df, image_data], axis=1).reindex(df.index)\n",
    "df.head(1)"
   ]
  },
  {
   "cell_type": "markdown",
   "metadata": {},
   "source": [
    "# Model"
   ]
  },
  {
   "cell_type": "code",
   "execution_count": 54,
   "metadata": {},
   "outputs": [],
   "source": [
    "model = MultinomialNB(alpha = 0.85)"
   ]
  },
  {
   "cell_type": "code",
   "execution_count": 55,
   "metadata": {},
   "outputs": [],
   "source": [
    "cv = ShuffleSplit(n_splits=5, test_size=0.33, random_state=0)"
   ]
  },
  {
   "cell_type": "code",
   "execution_count": 56,
   "metadata": {},
   "outputs": [],
   "source": [
    "params = np.linspace(0.0, 1.0, num=5)"
   ]
  },
  {
   "cell_type": "code",
   "execution_count": 57,
   "metadata": {},
   "outputs": [
    {
     "data": {
      "text/plain": [
       "array([0.89915966, 0.91236495, 0.88595438, 0.90876351, 0.89555822])"
      ]
     },
     "execution_count": 57,
     "metadata": {},
     "output_type": "execute_result"
    }
   ],
   "source": [
    "cross_val_score(model, df, y, cv=cv)"
   ]
  },
  {
   "cell_type": "code",
   "execution_count": 58,
   "metadata": {},
   "outputs": [
    {
     "ename": "NameError",
     "evalue": "name 'dasd' is not defined",
     "output_type": "error",
     "traceback": [
      "\u001b[0;31m---------------------------------------------------------------------------\u001b[0m",
      "\u001b[0;31mNameError\u001b[0m                                 Traceback (most recent call last)",
      "\u001b[0;32m<ipython-input-58-521b0dedce68>\u001b[0m in \u001b[0;36m<module>\u001b[0;34m\u001b[0m\n\u001b[0;32m----> 1\u001b[0;31m \u001b[0mprint\u001b[0m\u001b[0;34m(\u001b[0m\u001b[0mdasd\u001b[0m\u001b[0;34m)\u001b[0m\u001b[0;34m\u001b[0m\u001b[0;34m\u001b[0m\u001b[0m\n\u001b[0m",
      "\u001b[0;31mNameError\u001b[0m: name 'dasd' is not defined"
     ]
    }
   ],
   "source": [
    "print(dasd)"
   ]
  },
  {
   "cell_type": "markdown",
   "metadata": {},
   "source": [
    "## Testing"
   ]
  },
  {
   "cell_type": "code",
   "execution_count": 59,
   "metadata": {},
   "outputs": [],
   "source": [
    "X_train, X_test, y_train, y_test = train_test_split(df, y, test_size=0.33, random_state=0)"
   ]
  },
  {
   "cell_type": "code",
   "execution_count": 60,
   "metadata": {},
   "outputs": [
    {
     "data": {
      "text/plain": [
       "MultinomialNB(alpha=0.85)"
      ]
     },
     "execution_count": 60,
     "metadata": {},
     "output_type": "execute_result"
    }
   ],
   "source": [
    "model.fit(X_train, y_train)"
   ]
  },
  {
   "cell_type": "code",
   "execution_count": 61,
   "metadata": {},
   "outputs": [
    {
     "data": {
      "text/plain": [
       "0.8991596638655462"
      ]
     },
     "execution_count": 61,
     "metadata": {},
     "output_type": "execute_result"
    }
   ],
   "source": [
    "model.score(X_test, y_test)"
   ]
  },
  {
   "cell_type": "markdown",
   "metadata": {},
   "source": [
    "## Run classification"
   ]
  },
  {
   "cell_type": "code",
   "execution_count": null,
   "metadata": {},
   "outputs": [],
   "source": [
    "X_test_vect = vectorizer.transform(df_test['description'])\n",
    "X_test_vect.shape"
   ]
  },
  {
   "cell_type": "code",
   "execution_count": null,
   "metadata": {},
   "outputs": [],
   "source": [
    "test_feature_names = vectorizer.get_feature_names()\n",
    "len(test_feature_names)"
   ]
  },
  {
   "cell_type": "code",
   "execution_count": null,
   "metadata": {},
   "outputs": [],
   "source": [
    "test_feature_names = vectorizer.get_feature_names()\n",
    "dense = X_test_vect.todense()\n",
    "denselist = dense.tolist()\n",
    "x_data = pd.DataFrame(denselist, columns=test_feature_names)"
   ]
  },
  {
   "cell_type": "code",
   "execution_count": null,
   "metadata": {},
   "outputs": [],
   "source": [
    "x_data.head(1)"
   ]
  },
  {
   "cell_type": "code",
   "execution_count": null,
   "metadata": {},
   "outputs": [],
   "source": [
    "X_tmp = df_test\n",
    "image_data = X_tmp.drop(columns = ['title', 'description', 'image'])\n",
    "image_data.head(1)"
   ]
  },
  {
   "cell_type": "code",
   "execution_count": null,
   "metadata": {},
   "outputs": [],
   "source": [
    "x_data = pd.concat([x_data, image_data], axis=1).reindex(x_data.index)\n",
    "x_data.head(1)"
   ]
  },
  {
   "cell_type": "code",
   "execution_count": null,
   "metadata": {},
   "outputs": [],
   "source": [
    "def clean_dataset(df):\n",
    "    assert isinstance(df, pd.DataFrame), \"df needs to be a pd.DataFrame\"\n",
    "    df.dropna(inplace=True)\n",
    "    indices_to_keep = ~df.isin([np.nan, np.inf, -np.inf]).any(1)\n",
    "    return df[indices_to_keep].astype(np.float64)"
   ]
  },
  {
   "cell_type": "code",
   "execution_count": null,
   "metadata": {},
   "outputs": [],
   "source": [
    "x_data = clean_dataset(x_data)\n",
    "x_data.shape"
   ]
  },
  {
   "cell_type": "code",
   "execution_count": null,
   "metadata": {},
   "outputs": [],
   "source": [
    "x_data.head(1)"
   ]
  },
  {
   "cell_type": "code",
   "execution_count": null,
   "metadata": {},
   "outputs": [],
   "source": [
    "y_pred = model.predict(x_data)\n",
    "y_pred"
   ]
  },
  {
   "cell_type": "code",
   "execution_count": null,
   "metadata": {},
   "outputs": [],
   "source": [
    "images = df_test['image']\n",
    "images"
   ]
  },
  {
   "cell_type": "code",
   "execution_count": null,
   "metadata": {},
   "outputs": [],
   "source": [
    "import csv"
   ]
  },
  {
   "cell_type": "code",
   "execution_count": null,
   "metadata": {},
   "outputs": [],
   "source": [
    "print(dasdasda)"
   ]
  },
  {
   "cell_type": "code",
   "execution_count": null,
   "metadata": {},
   "outputs": [],
   "source": [
    "with open('submisson.csv', 'w', encoding='UTF8') as f:\n",
    "    writer = csv.writer(f)\n",
    "    writer.writerow(['image', 'class'])\n",
    "    \n",
    "    for i in range(images.shape[0]):\n",
    "        writer.writerow([images[i], y_pred[i]])"
   ]
  },
  {
   "cell_type": "code",
   "execution_count": null,
   "metadata": {
    "tags": []
   },
   "outputs": [],
   "source": [
    "a = 0\n",
    "for elem in train_feature_names:\n",
    "    if elem not in test_feature_names:\n",
    "        a += 1\n",
    "a"
   ]
  },
  {
   "cell_type": "code",
   "execution_count": null,
   "metadata": {},
   "outputs": [],
   "source": [
    "a = 0\n",
    "for elem in test_feature_names:\n",
    "    if elem not in train_feature_names:\n",
    "        a += 1\n",
    "a"
   ]
  },
  {
   "cell_type": "code",
   "execution_count": null,
   "metadata": {},
   "outputs": [],
   "source": [
    "len(train_feature_names)"
   ]
  },
  {
   "cell_type": "code",
   "execution_count": null,
   "metadata": {},
   "outputs": [],
   "source": [
    "len(test_feature_names)"
   ]
  },
  {
   "cell_type": "code",
   "execution_count": null,
   "metadata": {},
   "outputs": [],
   "source": []
  }
 ],
 "metadata": {
  "kernelspec": {
   "display_name": "Python 3",
   "language": "python",
   "name": "python3"
  },
  "language_info": {
   "codemirror_mode": {
    "name": "ipython",
    "version": 3
   },
   "file_extension": ".py",
   "mimetype": "text/x-python",
   "name": "python",
   "nbconvert_exporter": "python",
   "pygments_lexer": "ipython3",
   "version": "3.8.6"
  }
 },
 "nbformat": 4,
 "nbformat_minor": 4
}
